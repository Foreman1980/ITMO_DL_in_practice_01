{
 "cells": [
  {
   "cell_type": "code",
   "execution_count": 1,
   "id": "2252d7fb",
   "metadata": {},
   "outputs": [],
   "source": [
    "# !pip install pandas &&\\\n",
    "#  pip install sklearn &&\\\n",
    "#  pip install xgboost"
   ]
  },
  {
   "cell_type": "code",
   "execution_count": 2,
   "id": "798affcf",
   "metadata": {},
   "outputs": [],
   "source": [
    "import numpy as np\n",
    "import pandas as pd"
   ]
  },
  {
   "cell_type": "code",
   "execution_count": 3,
   "id": "08f94aa6",
   "metadata": {},
   "outputs": [
    {
     "data": {
      "text/html": [
       "<div>\n",
       "<style scoped>\n",
       "    .dataframe tbody tr th:only-of-type {\n",
       "        vertical-align: middle;\n",
       "    }\n",
       "\n",
       "    .dataframe tbody tr th {\n",
       "        vertical-align: top;\n",
       "    }\n",
       "\n",
       "    .dataframe thead th {\n",
       "        text-align: right;\n",
       "    }\n",
       "</style>\n",
       "<table border=\"1\" class=\"dataframe\">\n",
       "  <thead>\n",
       "    <tr style=\"text-align: right;\">\n",
       "      <th></th>\n",
       "      <th>name_1</th>\n",
       "      <th>name_2</th>\n",
       "      <th>l</th>\n",
       "      <th>dl</th>\n",
       "      <th>ssk</th>\n",
       "      <th>ts</th>\n",
       "      <th>tsr</th>\n",
       "      <th>pr</th>\n",
       "      <th>wr</th>\n",
       "      <th>smr</th>\n",
       "      <th>...</th>\n",
       "      <th>tdc</th>\n",
       "      <th>tdc_1</th>\n",
       "      <th>tdc_2</th>\n",
       "      <th>bag</th>\n",
       "      <th>mes</th>\n",
       "      <th>mess</th>\n",
       "      <th>rws</th>\n",
       "      <th>pqgdc</th>\n",
       "      <th>pqgjc</th>\n",
       "      <th>is_duplicate</th>\n",
       "    </tr>\n",
       "    <tr>\n",
       "      <th>pair_id</th>\n",
       "      <th></th>\n",
       "      <th></th>\n",
       "      <th></th>\n",
       "      <th></th>\n",
       "      <th></th>\n",
       "      <th></th>\n",
       "      <th></th>\n",
       "      <th></th>\n",
       "      <th></th>\n",
       "      <th></th>\n",
       "      <th></th>\n",
       "      <th></th>\n",
       "      <th></th>\n",
       "      <th></th>\n",
       "      <th></th>\n",
       "      <th></th>\n",
       "      <th></th>\n",
       "      <th></th>\n",
       "      <th></th>\n",
       "      <th></th>\n",
       "      <th></th>\n",
       "    </tr>\n",
       "  </thead>\n",
       "  <tbody>\n",
       "    <tr>\n",
       "      <th>1</th>\n",
       "      <td>iko industries</td>\n",
       "      <td>enormous industrial trade</td>\n",
       "      <td>0.564103</td>\n",
       "      <td>0.381090</td>\n",
       "      <td>0.589480</td>\n",
       "      <td>0.56</td>\n",
       "      <td>0.56</td>\n",
       "      <td>0.71</td>\n",
       "      <td>0.64</td>\n",
       "      <td>0.564103</td>\n",
       "      <td>...</td>\n",
       "      <td>0.452911</td>\n",
       "      <td>0.806060</td>\n",
       "      <td>0.524142</td>\n",
       "      <td>0.480000</td>\n",
       "      <td>0.766667</td>\n",
       "      <td>0.719872</td>\n",
       "      <td>0.646835</td>\n",
       "      <td>0.04878</td>\n",
       "      <td>0.025</td>\n",
       "      <td>0</td>\n",
       "    </tr>\n",
       "    <tr>\n",
       "      <th>2</th>\n",
       "      <td>apcotex industries</td>\n",
       "      <td>technocraft industries india</td>\n",
       "      <td>0.608696</td>\n",
       "      <td>0.424665</td>\n",
       "      <td>0.671847</td>\n",
       "      <td>0.52</td>\n",
       "      <td>0.71</td>\n",
       "      <td>0.72</td>\n",
       "      <td>0.86</td>\n",
       "      <td>0.565217</td>\n",
       "      <td>...</td>\n",
       "      <td>0.513436</td>\n",
       "      <td>0.893188</td>\n",
       "      <td>0.591080</td>\n",
       "      <td>0.571429</td>\n",
       "      <td>0.789474</td>\n",
       "      <td>0.765426</td>\n",
       "      <td>0.620774</td>\n",
       "      <td>0.00000</td>\n",
       "      <td>0.000</td>\n",
       "      <td>0</td>\n",
       "    </tr>\n",
       "    <tr>\n",
       "      <th>3</th>\n",
       "      <td>rishichem distributors</td>\n",
       "      <td>dsa</td>\n",
       "      <td>0.160000</td>\n",
       "      <td>0.119396</td>\n",
       "      <td>0.052106</td>\n",
       "      <td>0.16</td>\n",
       "      <td>0.16</td>\n",
       "      <td>0.67</td>\n",
       "      <td>0.60</td>\n",
       "      <td>0.080000</td>\n",
       "      <td>...</td>\n",
       "      <td>0.000000</td>\n",
       "      <td>0.326599</td>\n",
       "      <td>0.000000</td>\n",
       "      <td>0.090909</td>\n",
       "      <td>0.195652</td>\n",
       "      <td>0.347826</td>\n",
       "      <td>0.079790</td>\n",
       "      <td>0.00000</td>\n",
       "      <td>0.000</td>\n",
       "      <td>0</td>\n",
       "    </tr>\n",
       "    <tr>\n",
       "      <th>4</th>\n",
       "      <td>powermax rubber factory</td>\n",
       "      <td>co one</td>\n",
       "      <td>0.206897</td>\n",
       "      <td>0.157061</td>\n",
       "      <td>0.108644</td>\n",
       "      <td>0.34</td>\n",
       "      <td>0.34</td>\n",
       "      <td>0.33</td>\n",
       "      <td>0.43</td>\n",
       "      <td>0.137931</td>\n",
       "      <td>...</td>\n",
       "      <td>0.000000</td>\n",
       "      <td>0.474342</td>\n",
       "      <td>0.000000</td>\n",
       "      <td>0.217391</td>\n",
       "      <td>0.333333</td>\n",
       "      <td>0.416667</td>\n",
       "      <td>0.098339</td>\n",
       "      <td>0.00000</td>\n",
       "      <td>0.000</td>\n",
       "      <td>0</td>\n",
       "    </tr>\n",
       "    <tr>\n",
       "      <th>5</th>\n",
       "      <td>tress</td>\n",
       "      <td>longyou industries park zhejiang</td>\n",
       "      <td>0.216216</td>\n",
       "      <td>0.143389</td>\n",
       "      <td>0.156880</td>\n",
       "      <td>0.22</td>\n",
       "      <td>0.22</td>\n",
       "      <td>0.80</td>\n",
       "      <td>0.72</td>\n",
       "      <td>0.216216</td>\n",
       "      <td>...</td>\n",
       "      <td>0.179605</td>\n",
       "      <td>0.425210</td>\n",
       "      <td>0.174078</td>\n",
       "      <td>0.156250</td>\n",
       "      <td>0.666667</td>\n",
       "      <td>0.446970</td>\n",
       "      <td>0.522295</td>\n",
       "      <td>0.00000</td>\n",
       "      <td>0.000</td>\n",
       "      <td>0</td>\n",
       "    </tr>\n",
       "  </tbody>\n",
       "</table>\n",
       "<p>5 rows × 24 columns</p>\n",
       "</div>"
      ],
      "text/plain": [
       "                          name_1                            name_2         l  \\\n",
       "pair_id                                                                        \n",
       "1                 iko industries         enormous industrial trade  0.564103   \n",
       "2             apcotex industries      technocraft industries india  0.608696   \n",
       "3         rishichem distributors                               dsa  0.160000   \n",
       "4        powermax rubber factory                            co one  0.206897   \n",
       "5                          tress  longyou industries park zhejiang  0.216216   \n",
       "\n",
       "               dl       ssk    ts   tsr    pr    wr       smr  ...       tdc  \\\n",
       "pair_id                                                        ...             \n",
       "1        0.381090  0.589480  0.56  0.56  0.71  0.64  0.564103  ...  0.452911   \n",
       "2        0.424665  0.671847  0.52  0.71  0.72  0.86  0.565217  ...  0.513436   \n",
       "3        0.119396  0.052106  0.16  0.16  0.67  0.60  0.080000  ...  0.000000   \n",
       "4        0.157061  0.108644  0.34  0.34  0.33  0.43  0.137931  ...  0.000000   \n",
       "5        0.143389  0.156880  0.22  0.22  0.80  0.72  0.216216  ...  0.179605   \n",
       "\n",
       "            tdc_1     tdc_2       bag       mes      mess       rws    pqgdc  \\\n",
       "pair_id                                                                        \n",
       "1        0.806060  0.524142  0.480000  0.766667  0.719872  0.646835  0.04878   \n",
       "2        0.893188  0.591080  0.571429  0.789474  0.765426  0.620774  0.00000   \n",
       "3        0.326599  0.000000  0.090909  0.195652  0.347826  0.079790  0.00000   \n",
       "4        0.474342  0.000000  0.217391  0.333333  0.416667  0.098339  0.00000   \n",
       "5        0.425210  0.174078  0.156250  0.666667  0.446970  0.522295  0.00000   \n",
       "\n",
       "         pqgjc  is_duplicate  \n",
       "pair_id                       \n",
       "1        0.025             0  \n",
       "2        0.000             0  \n",
       "3        0.000             0  \n",
       "4        0.000             0  \n",
       "5        0.000             0  \n",
       "\n",
       "[5 rows x 24 columns]"
      ]
     },
     "execution_count": 3,
     "metadata": {},
     "output_type": "execute_result"
    }
   ],
   "source": [
    "df = pd.read_csv(r'C:\\Users\\Shkolaynski.MOKB\\DataspellProjects\\ITMO_DL_in_practice_02\\Source\\feature_all.csv', index_col='pair_id')\n",
    "df.drop(columns=['mra', 'mean'], inplace=True)\n",
    "df.head()"
   ]
  },
  {
   "cell_type": "code",
   "execution_count": 4,
   "id": "c4775a01",
   "metadata": {},
   "outputs": [
    {
     "data": {
      "text/plain": [
       "Index(['l', 'dl', 'ssk', 'ts', 'tsr', 'pr', 'wr', 'smr', 'sd', 'jd', 'js',\n",
       "       'jws', 'tdc', 'tdc_1', 'tdc_2', 'bag', 'mes', 'mess', 'rws', 'pqgdc',\n",
       "       'pqgjc', 'is_duplicate'],\n",
       "      dtype='object')"
      ]
     },
     "execution_count": 4,
     "metadata": {},
     "output_type": "execute_result"
    }
   ],
   "source": [
    "df.columns[2:]"
   ]
  },
  {
   "cell_type": "code",
   "execution_count": 5,
   "id": "ddfeb7c3",
   "metadata": {},
   "outputs": [],
   "source": [
    "from sklearn.model_selection import train_test_split #, GridSearchCV\n",
    "# from sklearn.ensemble import GradientBoostingClassifier\n",
    "import xgboost as xgb"
   ]
  },
  {
   "cell_type": "code",
   "execution_count": 25,
   "id": "4729889b",
   "metadata": {},
   "outputs": [],
   "source": [
    "x_train, x_test, y_train, y_test = train_test_split(df.loc[:, ['tsr', 'jws']], df.iloc[:, -1], test_size=0.3, random_state=42)"
   ]
  },
  {
   "cell_type": "code",
   "execution_count": 26,
   "id": "617540c2",
   "metadata": {},
   "outputs": [],
   "source": [
    "model = xgb.XGBClassifier()\n",
    "model.fit(x_train, y_train)\n",
    "y_pred = model.predict_proba(x_test)[:, 1]"
   ]
  },
  {
   "cell_type": "code",
   "execution_count": 27,
   "id": "9b1a4a25",
   "metadata": {},
   "outputs": [],
   "source": [
    "from sklearn.metrics import precision_recall_curve, confusion_matrix"
   ]
  },
  {
   "cell_type": "code",
   "execution_count": 28,
   "id": "a0d4246a",
   "metadata": {},
   "outputs": [
    {
     "name": "stdout",
     "output_type": "stream",
     "text": [
      "Best Threshold=0.285989, F-Score=0.575, Precision=0.601, Recall=0.551\n"
     ]
    }
   ],
   "source": [
    "precision, recall, thresholds = precision_recall_curve(y_test, y_pred)\n",
    "b = 1\n",
    "fscore = (1 + b**2) * precision * recall / (b**2 * precision + recall)\n",
    "ix = np.argmax(fscore)\n",
    "print('Best Threshold=%f, F-Score=%.3f, Precision=%.3f, Recall=%.3f' % (thresholds[ix], \n",
    "                                                                        fscore[ix],\n",
    "                                                                        precision[ix],\n",
    "                                                                        recall[ix]))"
   ]
  },
  {
   "cell_type": "code",
   "execution_count": 11,
   "id": "912d9498",
   "metadata": {},
   "outputs": [],
   "source": [
    "# найдём строки ближайшие к данной\n",
    "input_str = 'Bridgestone De Costa Rica Sociedad Anoni'"
   ]
  },
  {
   "cell_type": "code",
   "execution_count": 12,
   "id": "3bb52062",
   "metadata": {},
   "outputs": [],
   "source": [
    "# pip install unicodedata &&\\\n",
    "# !pip install cleanco &&\\\n",
    "#  pip install transliterate"
   ]
  },
  {
   "cell_type": "code",
   "execution_count": 13,
   "id": "a2cbef4a",
   "metadata": {},
   "outputs": [],
   "source": [
    "import re\n",
    "import unicodedata\n",
    "from cleanco import basename\n",
    "from transliterate.decorators import transliterate_function\n",
    "\n",
    "\n",
    "def preprocessing(x: str) -> str:\n",
    "    \n",
    "    def rus_preprocess(x: str) -> str:\n",
    "        forms_of_ownership = [\n",
    "            'ооо',\n",
    "            'оао',\n",
    "            'общество с ограниченной ответственностью',\n",
    "            'открытое акционерное общество',\n",
    "            'филиал компании'\n",
    "        ]\n",
    "        \n",
    "        for form in forms_of_ownership:\n",
    "            pattern = re.compile(form)\n",
    "            x = pattern.sub('', x)\n",
    "            \n",
    "        return x\n",
    "    \n",
    "    @transliterate_function(language_code='ru', reversed=True)\n",
    "    def translit(x: str) -> str:\n",
    "        return x\n",
    "    \n",
    "    \n",
    "    x = x.strip().lower()\n",
    "    x = basename(x) if not bool(set(rus_alphabet).intersection(set(x.lower()))) else rus_preprocess(x)\n",
    "    x = unicodedata.normalize('NFKD', x).encode('ASCII', 'ignore').decode() if not bool(set(rus_alphabet).intersection(set(x.lower()))) else translit(x)\n",
    "    x = basename(x)\n",
    "    x = re.sub(r'[^\\w\\s]',' ', x)\n",
    "    \n",
    "    return ' '.join([s for s in x.split()]) if len(x.split()) != 0 else '-' * 5\n",
    "    \n",
    "\n",
    "a = ord('а') # кирилическая \"А\"\n",
    "rus_alphabet = ''.join([chr(i) for i in range(a,a+6)] + [chr(a+33)] + [chr(i) for i in range(a+6,a+32)])\n",
    "    \n",
    "input_str = preprocessing(input_str)\n",
    "test_df = df[['name_2', 'is_duplicate']].copy()\n",
    "test_df.name_2 = test_df.name_2.apply(lambda x: preprocessing(x))"
   ]
  },
  {
   "cell_type": "code",
   "execution_count": 14,
   "id": "9c1b1389",
   "metadata": {},
   "outputs": [],
   "source": [
    "# !pip install abydos &&\\\n",
    "#  pip install fuzzywuzzy &&\\\n",
    "#  pip install strsimpy &&\\\n",
    "#  pip install Levenshtein &&\\\n",
    "#  pip install distance &&\\\n",
    "#  pip install jellyfish &&\\\n",
    "#  pip install textdistance"
   ]
  },
  {
   "cell_type": "code",
   "execution_count": 15,
   "id": "311000a2",
   "metadata": {},
   "outputs": [],
   "source": [
    "# import difflib # встроенная библиотека\n",
    "\n",
    "import abydos.distance as abd\n",
    "from fuzzywuzzy import fuzz\n",
    "# from strsimpy.cosine import Cosine\n",
    "import jellyfish\n",
    "# import Levenshtein, distance, textdistance\n",
    "\n",
    "import warnings\n",
    "\n",
    "warnings.filterwarnings(\"ignore\")\n",
    "\n",
    "\n",
    "# def tdc_n(seq1, seq2, n):\n",
    "#     cosine = Cosine(n)\n",
    "#     p1 = cosine.get_profile(seq1)\n",
    "#     p2 = cosine.get_profile(seq2)\n",
    "#     return cosine.similarity_profiles(p1, p2)\n",
    "\n",
    "\n",
    "model_df = test_df.copy()"
   ]
  },
  {
   "cell_type": "code",
   "execution_count": 16,
   "id": "ece3f5f6",
   "metadata": {},
   "outputs": [],
   "source": [
    "# # Levenshtein\n",
    "# model_df.insert(1, 'l', test_df.name_2.apply(lambda x: Levenshtein.ratio(input_str, x)))"
   ]
  },
  {
   "cell_type": "code",
   "execution_count": 17,
   "id": "c2c5d541",
   "metadata": {},
   "outputs": [],
   "source": [
    "# # Discounted_Levenshtein\n",
    "# model_df.insert(2, 'dl', test_df.name_2.apply(lambda x: abd.DiscountedLevenshtein().sim(input_str, x)))\n",
    "\n",
    "# # String Subsequence Kernel Similarity\n",
    "# model_df.insert(3, 'ssk', test_df.name_2.apply(lambda x: abd.SSK().sim(input_str, x)))\n",
    "\n",
    "# # Token Sort Ratio\n",
    "# model_df.insert(4, 'ts', test_df.name_2.apply(lambda x: fuzz.token_sort_ratio(input_str, x) / 100))\n",
    "\n",
    "# Token Set Ratio\n",
    "model_df.insert(1, 'tsr', test_df.name_2.apply(lambda x: fuzz.token_set_ratio(input_str, x) / 100))\n",
    "\n",
    "# # Partial Ratio\n",
    "# model_df.insert(6, 'pr', test_df.name_2.apply(lambda x: fuzz.partial_ratio(input_str, x) / 100))\n",
    "\n",
    "# # Weighted Ratio\n",
    "# model_df.insert(7, 'wr', test_df.name_2.apply(lambda x: fuzz.WRatio(input_str, x) / 100))\n",
    "\n",
    "# # Sequence Matcher Ratio\n",
    "# model_df.insert(8, 'smr', test_df.name_2.apply(lambda x: difflib.SequenceMatcher(None, input_str, x).ratio()))"
   ]
  },
  {
   "cell_type": "code",
   "execution_count": 18,
   "id": "df0cda9d",
   "metadata": {},
   "outputs": [],
   "source": [
    "# нужно сохранять промежуточный результат\n",
    "model_df.to_csv(r'C:\\Users\\Shkolaynski.MOKB\\DataspellProjects\\ITMO_DL_in_practice_02\\Source\\model_1.csv')"
   ]
  },
  {
   "cell_type": "code",
   "execution_count": 19,
   "id": "09978630",
   "metadata": {},
   "outputs": [],
   "source": [
    "# # Sorensen Distance\n",
    "# model_df.insert(10, 'sd', test_df.name_2.apply(lambda x: 1 - distance.sorensen(input_str, x)))\n",
    "\n",
    "# # Jaccard Distance\n",
    "# model_df.insert(11, 'jd', test_df.name_2.apply(lambda x: 1 - distance.jaccard(input_str, x)))\n",
    "\n",
    "# # Jaro Similarity\n",
    "# model_df.insert(12, 'js', test_df.name_2.apply(lambda x: jellyfish.jaro_similarity(input_str, x)))\n",
    "\n",
    "# Jaro-Winkler Similarity\n",
    "model_df.insert(2, 'jws', test_df.name_2.apply(lambda x: jellyfish.jaro_winkler_similarity(input_str, x)))\n",
    "\n",
    "# # Match Rating Approach\n",
    "# model_df.insert(14, 'mra', test_df.name_2.apply(lambda x: int(False if jellyfish.match_rating_comparison(input_str, x) is None else jellyfish.match_rating_comparison(input_str, x))))\n",
    "\n",
    "# # Text Distance Cosine\n",
    "# model_df.insert(15, 'tdc', test_df.name_2.apply(lambda x: 1-textdistance.Cosine(qval=2).distance(input_str, x)))\n",
    "\n",
    "# # Text Distance Cosine n=1\n",
    "# model_df.insert(16, 'tdc_1', test_df.name_2.apply(lambda x: tdc_n(input_str, x, 1)))\n",
    "\n",
    "# # Text Distance Cosine n=2\n",
    "# model_df.insert(17, 'tdc_2', test_df.name_2.apply(lambda x: tdc_n(input_str, x, 2)))"
   ]
  },
  {
   "cell_type": "code",
   "execution_count": 20,
   "id": "6cdd9544",
   "metadata": {},
   "outputs": [],
   "source": [
    "# нужно сохранять промежуточный результат\n",
    "# model_df.to_csv(r'C:\\Users\\Shkolaynski.MOKB\\DataspellProjects\\ITMO_DL_in_practice_02\\Source\\model_2.csv')"
   ]
  },
  {
   "cell_type": "code",
   "execution_count": 21,
   "id": "4982a373",
   "metadata": {},
   "outputs": [],
   "source": [
    "# # Bag\n",
    "# model_df.insert(18, 'bag', test_df.name_2.apply(lambda x: abd.Bag().sim(input_str, x, 2)))\n",
    "\n",
    "# # Monge-Elkan similarity\n",
    "# model_df.insert(19, 'mes', test_df.name_2.apply(lambda x: abd.MongeElkan(symmetric=False).sim(input_str, x, 2)))\n",
    "\n",
    "# # Monge-Elkan symmetric similarity\n",
    "# model_df.insert(20, 'mess', test_df.name_2.apply(lambda x: abd.MongeElkan(symmetric=True).sim(input_str, x, 2)))\n",
    "\n",
    "# # Rouge-W similarity\n",
    "# model_df.insert(21, 'rws', test_df.name_2.apply(lambda x: abd.RougeW().sim(input_str, x, 2)))\n",
    "\n",
    "# # Positional Q-Gram Dice coefficient\n",
    "# model_df.insert(22, 'pqgdc', test_df.name_2.apply(lambda x: abd.PositionalQGramDice().sim(input_str, x, 2)))\n",
    "\n",
    "# # Positional Q-Gram Jaccard coefficient\n",
    "# model_df.insert(23, 'pqgjc', test_df.name_2.apply(lambda x: abd.PositionalQGramJaccard().sim(input_str, x, 2)))"
   ]
  },
  {
   "cell_type": "code",
   "execution_count": 22,
   "id": "3d0793de",
   "metadata": {},
   "outputs": [],
   "source": [
    "model_df.to_csv(r'C:\\Users\\Shkolaynski.MOKB\\DataspellProjects\\ITMO_DL_in_practice_02\\Source\\model_all.csv')"
   ]
  },
  {
   "cell_type": "code",
   "execution_count": null,
   "id": "a995980a",
   "metadata": {},
   "outputs": [],
   "source": [
    "# найдём строки ближайшие к данной\n",
    "input_str = 'Bridgestone De Costa Rica Sociedad Anoni'"
   ]
  },
  {
   "cell_type": "code",
   "execution_count": 39,
   "id": "7331cc48",
   "metadata": {},
   "outputs": [
    {
     "data": {
      "text/plain": [
       "pair_id\n",
       "18774     bridgestone de costa rica sociedad anoni\n",
       "24799     bridgestone de costa rica sociedad anoni\n",
       "32272     bridgestone de costa rica sociedad anoni\n",
       "71032     bridgestone de costa rica sociedad anoni\n",
       "113396    bridgestone de costa rica sociedad anoni\n",
       "120571    bridgestone de costa rica sociedad anoni\n",
       "185306    bridgestone de costa rica sociedad anoni\n",
       "185484    bridgestone de costa rica sociedad anoni\n",
       "195416    bridgestone de costa rica sociedad anoni\n",
       "205919    bridgestone de costa rica sociedad anoni\n",
       "218612    bridgestone de costa rica sociedad anoni\n",
       "244148    bridgestone de costa rica sociedad anoni\n",
       "249786    bridgestone de costa rica sociedad anoni\n",
       "274590    bridgestone de costa rica sociedad anoni\n",
       "296905    bridgestone de costa rica sociedad anoni\n",
       "306663    bridgestone de costa rica sociedad anoni\n",
       "333641    bridgestone de costa rica sociedad anoni\n",
       "338569    bridgestone de costa rica sociedad anoni\n",
       "340533    bridgestone de costa rica sociedad anoni\n",
       "341883    bridgestone de costa rica sociedad anoni\n",
       "342389    bridgestone de costa rica sociedad anoni\n",
       "352919    bridgestone de costa rica sociedad anoni\n",
       "359647    bridgestone de costa rica sociedad anoni\n",
       "362239    bridgestone de costa rica sociedad anoni\n",
       "383346    bridgestone de costa rica sociedad anoni\n",
       "401205    bridgestone de costa rica sociedad anoni\n",
       "413621    bridgestone de costa rica sociedad anoni\n",
       "415529    bridgestone de costa rica sociedad anoni\n",
       "426490    bridgestone de costa rica sociedad anoni\n",
       "443833    bridgestone de costa rica sociedad anoni\n",
       "Name: name_2, dtype: object"
      ]
     },
     "execution_count": 39,
     "metadata": {},
     "output_type": "execute_result"
    }
   ],
   "source": [
    "df.loc[model_df.sort_values(['tsr', 'jws'], ascending=False).index, 'name_2'].head(30)"
   ]
  },
  {
   "cell_type": "code",
   "execution_count": 35,
   "id": "61c27356",
   "metadata": {},
   "outputs": [
    {
     "data": {
      "text/plain": [
       "name_1                                            vystar\n",
       "name_2          bridgestone de costa rica sociedad anoni\n",
       "l                                               0.173913\n",
       "dl                                              0.122014\n",
       "ssk                                             0.107007\n",
       "ts                                                  0.17\n",
       "tsr                                                 0.17\n",
       "pr                                                  0.67\n",
       "wr                                                   0.6\n",
       "smr                                             0.173913\n",
       "sd                                              0.421053\n",
       "jd                                              0.266667\n",
       "js                                              0.422222\n",
       "jws                                             0.422222\n",
       "tdc                                             0.143223\n",
       "tdc_1                                           0.376854\n",
       "tdc_2                                           0.191663\n",
       "bag                                                  0.1\n",
       "mes                                             0.571429\n",
       "mess                                            0.432056\n",
       "rws                                             0.484783\n",
       "pqgdc                                                0.0\n",
       "pqgjc                                                0.0\n",
       "is_duplicate                                           0\n",
       "Name: 24799, dtype: object"
      ]
     },
     "execution_count": 35,
     "metadata": {},
     "output_type": "execute_result"
    }
   ],
   "source": [
    "df.loc[24799, :]"
   ]
  },
  {
   "cell_type": "code",
   "execution_count": null,
   "id": "d76a6a70",
   "metadata": {},
   "outputs": [],
   "source": []
  },
  {
   "cell_type": "code",
   "execution_count": null,
   "id": "1c3773a8",
   "metadata": {},
   "outputs": [],
   "source": []
  },
  {
   "cell_type": "code",
   "execution_count": null,
   "id": "d2bb564d",
   "metadata": {},
   "outputs": [],
   "source": []
  },
  {
   "cell_type": "code",
   "execution_count": null,
   "id": "d52bfebd",
   "metadata": {},
   "outputs": [],
   "source": []
  }
 ],
 "metadata": {
  "kernelspec": {
   "display_name": "Python 3 (ipykernel)",
   "language": "python",
   "name": "python3"
  },
  "language_info": {
   "codemirror_mode": {
    "name": "ipython",
    "version": 3
   },
   "file_extension": ".py",
   "mimetype": "text/x-python",
   "name": "python",
   "nbconvert_exporter": "python",
   "pygments_lexer": "ipython3",
   "version": "3.9.13"
  }
 },
 "nbformat": 4,
 "nbformat_minor": 5
}
