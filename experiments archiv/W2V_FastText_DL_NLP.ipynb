{
  "nbformat": 4,
  "nbformat_minor": 0,
  "metadata": {
    "colab": {
      "provenance": [],
      "collapsed_sections": []
    },
    "kernelspec": {
      "name": "python3",
      "display_name": "Python 3"
    },
    "language_info": {
      "name": "python"
    },
    "gpuClass": "standard",
    "widgets": {
      "application/vnd.jupyter.widget-state+json": {
        "5a8c472b0931442ebddff5c54cc553fd": {
          "model_module": "@jupyter-widgets/controls",
          "model_name": "HBoxModel",
          "model_module_version": "1.5.0",
          "state": {
            "_dom_classes": [],
            "_model_module": "@jupyter-widgets/controls",
            "_model_module_version": "1.5.0",
            "_model_name": "HBoxModel",
            "_view_count": null,
            "_view_module": "@jupyter-widgets/controls",
            "_view_module_version": "1.5.0",
            "_view_name": "HBoxView",
            "box_style": "",
            "children": [
              "IPY_MODEL_eba6ed21ad104b35b3d99ee7ca6187de",
              "IPY_MODEL_3e98da0683ce4fbfb8c6ae822b6bb3a3",
              "IPY_MODEL_4d4280cad8ff495a8e5992f37dd73583"
            ],
            "layout": "IPY_MODEL_862293f479444a62b8bed05b68dee74e"
          }
        },
        "eba6ed21ad104b35b3d99ee7ca6187de": {
          "model_module": "@jupyter-widgets/controls",
          "model_name": "HTMLModel",
          "model_module_version": "1.5.0",
          "state": {
            "_dom_classes": [],
            "_model_module": "@jupyter-widgets/controls",
            "_model_module_version": "1.5.0",
            "_model_name": "HTMLModel",
            "_view_count": null,
            "_view_module": "@jupyter-widgets/controls",
            "_view_module_version": "1.5.0",
            "_view_name": "HTMLView",
            "description": "",
            "description_tooltip": null,
            "layout": "IPY_MODEL_7190bc9a3947460f8512002c5c7f452b",
            "placeholder": "​",
            "style": "IPY_MODEL_c1fb74243c5c4903a52be6f9901bba83",
            "value": "100%"
          }
        },
        "3e98da0683ce4fbfb8c6ae822b6bb3a3": {
          "model_module": "@jupyter-widgets/controls",
          "model_name": "FloatProgressModel",
          "model_module_version": "1.5.0",
          "state": {
            "_dom_classes": [],
            "_model_module": "@jupyter-widgets/controls",
            "_model_module_version": "1.5.0",
            "_model_name": "FloatProgressModel",
            "_view_count": null,
            "_view_module": "@jupyter-widgets/controls",
            "_view_module_version": "1.5.0",
            "_view_name": "ProgressView",
            "bar_style": "success",
            "description": "",
            "description_tooltip": null,
            "layout": "IPY_MODEL_48cbe1de40df460bb5f77724fce10df2",
            "max": 497819,
            "min": 0,
            "orientation": "horizontal",
            "style": "IPY_MODEL_ec5eeca7fa264ba1820effa69ceeb5a2",
            "value": 497819
          }
        },
        "4d4280cad8ff495a8e5992f37dd73583": {
          "model_module": "@jupyter-widgets/controls",
          "model_name": "HTMLModel",
          "model_module_version": "1.5.0",
          "state": {
            "_dom_classes": [],
            "_model_module": "@jupyter-widgets/controls",
            "_model_module_version": "1.5.0",
            "_model_name": "HTMLModel",
            "_view_count": null,
            "_view_module": "@jupyter-widgets/controls",
            "_view_module_version": "1.5.0",
            "_view_name": "HTMLView",
            "description": "",
            "description_tooltip": null,
            "layout": "IPY_MODEL_56ad32af29a3407b98875cb3ea75d74d",
            "placeholder": "​",
            "style": "IPY_MODEL_1b514bc9681843ffad4e331754f939e6",
            "value": " 497819/497819 [01:05&lt;00:00, 8368.15it/s]"
          }
        },
        "862293f479444a62b8bed05b68dee74e": {
          "model_module": "@jupyter-widgets/base",
          "model_name": "LayoutModel",
          "model_module_version": "1.2.0",
          "state": {
            "_model_module": "@jupyter-widgets/base",
            "_model_module_version": "1.2.0",
            "_model_name": "LayoutModel",
            "_view_count": null,
            "_view_module": "@jupyter-widgets/base",
            "_view_module_version": "1.2.0",
            "_view_name": "LayoutView",
            "align_content": null,
            "align_items": null,
            "align_self": null,
            "border": null,
            "bottom": null,
            "display": null,
            "flex": null,
            "flex_flow": null,
            "grid_area": null,
            "grid_auto_columns": null,
            "grid_auto_flow": null,
            "grid_auto_rows": null,
            "grid_column": null,
            "grid_gap": null,
            "grid_row": null,
            "grid_template_areas": null,
            "grid_template_columns": null,
            "grid_template_rows": null,
            "height": null,
            "justify_content": null,
            "justify_items": null,
            "left": null,
            "margin": null,
            "max_height": null,
            "max_width": null,
            "min_height": null,
            "min_width": null,
            "object_fit": null,
            "object_position": null,
            "order": null,
            "overflow": null,
            "overflow_x": null,
            "overflow_y": null,
            "padding": null,
            "right": null,
            "top": null,
            "visibility": null,
            "width": null
          }
        },
        "7190bc9a3947460f8512002c5c7f452b": {
          "model_module": "@jupyter-widgets/base",
          "model_name": "LayoutModel",
          "model_module_version": "1.2.0",
          "state": {
            "_model_module": "@jupyter-widgets/base",
            "_model_module_version": "1.2.0",
            "_model_name": "LayoutModel",
            "_view_count": null,
            "_view_module": "@jupyter-widgets/base",
            "_view_module_version": "1.2.0",
            "_view_name": "LayoutView",
            "align_content": null,
            "align_items": null,
            "align_self": null,
            "border": null,
            "bottom": null,
            "display": null,
            "flex": null,
            "flex_flow": null,
            "grid_area": null,
            "grid_auto_columns": null,
            "grid_auto_flow": null,
            "grid_auto_rows": null,
            "grid_column": null,
            "grid_gap": null,
            "grid_row": null,
            "grid_template_areas": null,
            "grid_template_columns": null,
            "grid_template_rows": null,
            "height": null,
            "justify_content": null,
            "justify_items": null,
            "left": null,
            "margin": null,
            "max_height": null,
            "max_width": null,
            "min_height": null,
            "min_width": null,
            "object_fit": null,
            "object_position": null,
            "order": null,
            "overflow": null,
            "overflow_x": null,
            "overflow_y": null,
            "padding": null,
            "right": null,
            "top": null,
            "visibility": null,
            "width": null
          }
        },
        "c1fb74243c5c4903a52be6f9901bba83": {
          "model_module": "@jupyter-widgets/controls",
          "model_name": "DescriptionStyleModel",
          "model_module_version": "1.5.0",
          "state": {
            "_model_module": "@jupyter-widgets/controls",
            "_model_module_version": "1.5.0",
            "_model_name": "DescriptionStyleModel",
            "_view_count": null,
            "_view_module": "@jupyter-widgets/base",
            "_view_module_version": "1.2.0",
            "_view_name": "StyleView",
            "description_width": ""
          }
        },
        "48cbe1de40df460bb5f77724fce10df2": {
          "model_module": "@jupyter-widgets/base",
          "model_name": "LayoutModel",
          "model_module_version": "1.2.0",
          "state": {
            "_model_module": "@jupyter-widgets/base",
            "_model_module_version": "1.2.0",
            "_model_name": "LayoutModel",
            "_view_count": null,
            "_view_module": "@jupyter-widgets/base",
            "_view_module_version": "1.2.0",
            "_view_name": "LayoutView",
            "align_content": null,
            "align_items": null,
            "align_self": null,
            "border": null,
            "bottom": null,
            "display": null,
            "flex": null,
            "flex_flow": null,
            "grid_area": null,
            "grid_auto_columns": null,
            "grid_auto_flow": null,
            "grid_auto_rows": null,
            "grid_column": null,
            "grid_gap": null,
            "grid_row": null,
            "grid_template_areas": null,
            "grid_template_columns": null,
            "grid_template_rows": null,
            "height": null,
            "justify_content": null,
            "justify_items": null,
            "left": null,
            "margin": null,
            "max_height": null,
            "max_width": null,
            "min_height": null,
            "min_width": null,
            "object_fit": null,
            "object_position": null,
            "order": null,
            "overflow": null,
            "overflow_x": null,
            "overflow_y": null,
            "padding": null,
            "right": null,
            "top": null,
            "visibility": null,
            "width": null
          }
        },
        "ec5eeca7fa264ba1820effa69ceeb5a2": {
          "model_module": "@jupyter-widgets/controls",
          "model_name": "ProgressStyleModel",
          "model_module_version": "1.5.0",
          "state": {
            "_model_module": "@jupyter-widgets/controls",
            "_model_module_version": "1.5.0",
            "_model_name": "ProgressStyleModel",
            "_view_count": null,
            "_view_module": "@jupyter-widgets/base",
            "_view_module_version": "1.2.0",
            "_view_name": "StyleView",
            "bar_color": null,
            "description_width": ""
          }
        },
        "56ad32af29a3407b98875cb3ea75d74d": {
          "model_module": "@jupyter-widgets/base",
          "model_name": "LayoutModel",
          "model_module_version": "1.2.0",
          "state": {
            "_model_module": "@jupyter-widgets/base",
            "_model_module_version": "1.2.0",
            "_model_name": "LayoutModel",
            "_view_count": null,
            "_view_module": "@jupyter-widgets/base",
            "_view_module_version": "1.2.0",
            "_view_name": "LayoutView",
            "align_content": null,
            "align_items": null,
            "align_self": null,
            "border": null,
            "bottom": null,
            "display": null,
            "flex": null,
            "flex_flow": null,
            "grid_area": null,
            "grid_auto_columns": null,
            "grid_auto_flow": null,
            "grid_auto_rows": null,
            "grid_column": null,
            "grid_gap": null,
            "grid_row": null,
            "grid_template_areas": null,
            "grid_template_columns": null,
            "grid_template_rows": null,
            "height": null,
            "justify_content": null,
            "justify_items": null,
            "left": null,
            "margin": null,
            "max_height": null,
            "max_width": null,
            "min_height": null,
            "min_width": null,
            "object_fit": null,
            "object_position": null,
            "order": null,
            "overflow": null,
            "overflow_x": null,
            "overflow_y": null,
            "padding": null,
            "right": null,
            "top": null,
            "visibility": null,
            "width": null
          }
        },
        "1b514bc9681843ffad4e331754f939e6": {
          "model_module": "@jupyter-widgets/controls",
          "model_name": "DescriptionStyleModel",
          "model_module_version": "1.5.0",
          "state": {
            "_model_module": "@jupyter-widgets/controls",
            "_model_module_version": "1.5.0",
            "_model_name": "DescriptionStyleModel",
            "_view_count": null,
            "_view_module": "@jupyter-widgets/base",
            "_view_module_version": "1.2.0",
            "_view_name": "StyleView",
            "description_width": ""
          }
        },
        "dcacf1b54d5d4846a97e62ab6add554e": {
          "model_module": "@jupyter-widgets/controls",
          "model_name": "HBoxModel",
          "model_module_version": "1.5.0",
          "state": {
            "_dom_classes": [],
            "_model_module": "@jupyter-widgets/controls",
            "_model_module_version": "1.5.0",
            "_model_name": "HBoxModel",
            "_view_count": null,
            "_view_module": "@jupyter-widgets/controls",
            "_view_module_version": "1.5.0",
            "_view_name": "HBoxView",
            "box_style": "",
            "children": [
              "IPY_MODEL_82d634d510094edd8d645555cd36e74b",
              "IPY_MODEL_c6819e4284bb4557a87aa508c3f14b13",
              "IPY_MODEL_e68c8ba86d104778a9ba0787d1aaba13"
            ],
            "layout": "IPY_MODEL_b798097b1f804b90855a10c30c37e9a3"
          }
        },
        "82d634d510094edd8d645555cd36e74b": {
          "model_module": "@jupyter-widgets/controls",
          "model_name": "HTMLModel",
          "model_module_version": "1.5.0",
          "state": {
            "_dom_classes": [],
            "_model_module": "@jupyter-widgets/controls",
            "_model_module_version": "1.5.0",
            "_model_name": "HTMLModel",
            "_view_count": null,
            "_view_module": "@jupyter-widgets/controls",
            "_view_module_version": "1.5.0",
            "_view_name": "HTMLView",
            "description": "",
            "description_tooltip": null,
            "layout": "IPY_MODEL_df394db022b6417bb675724fe1d79d16",
            "placeholder": "​",
            "style": "IPY_MODEL_cd018282f4e74e3195d828dafff9c173",
            "value": "100%"
          }
        },
        "c6819e4284bb4557a87aa508c3f14b13": {
          "model_module": "@jupyter-widgets/controls",
          "model_name": "FloatProgressModel",
          "model_module_version": "1.5.0",
          "state": {
            "_dom_classes": [],
            "_model_module": "@jupyter-widgets/controls",
            "_model_module_version": "1.5.0",
            "_model_name": "FloatProgressModel",
            "_view_count": null,
            "_view_module": "@jupyter-widgets/controls",
            "_view_module_version": "1.5.0",
            "_view_name": "ProgressView",
            "bar_style": "success",
            "description": "",
            "description_tooltip": null,
            "layout": "IPY_MODEL_3336511101834c9f813e5149d81f4716",
            "max": 497819,
            "min": 0,
            "orientation": "horizontal",
            "style": "IPY_MODEL_1658670c68284666ac297a62f6278675",
            "value": 497819
          }
        },
        "e68c8ba86d104778a9ba0787d1aaba13": {
          "model_module": "@jupyter-widgets/controls",
          "model_name": "HTMLModel",
          "model_module_version": "1.5.0",
          "state": {
            "_dom_classes": [],
            "_model_module": "@jupyter-widgets/controls",
            "_model_module_version": "1.5.0",
            "_model_name": "HTMLModel",
            "_view_count": null,
            "_view_module": "@jupyter-widgets/controls",
            "_view_module_version": "1.5.0",
            "_view_name": "HTMLView",
            "description": "",
            "description_tooltip": null,
            "layout": "IPY_MODEL_38c1cf6a9d6943e3b84efebc46a8754c",
            "placeholder": "​",
            "style": "IPY_MODEL_8bc115c1137b49f6ba7fceb4a913b64e",
            "value": " 497819/497819 [01:17&lt;00:00, 8044.57it/s]"
          }
        },
        "b798097b1f804b90855a10c30c37e9a3": {
          "model_module": "@jupyter-widgets/base",
          "model_name": "LayoutModel",
          "model_module_version": "1.2.0",
          "state": {
            "_model_module": "@jupyter-widgets/base",
            "_model_module_version": "1.2.0",
            "_model_name": "LayoutModel",
            "_view_count": null,
            "_view_module": "@jupyter-widgets/base",
            "_view_module_version": "1.2.0",
            "_view_name": "LayoutView",
            "align_content": null,
            "align_items": null,
            "align_self": null,
            "border": null,
            "bottom": null,
            "display": null,
            "flex": null,
            "flex_flow": null,
            "grid_area": null,
            "grid_auto_columns": null,
            "grid_auto_flow": null,
            "grid_auto_rows": null,
            "grid_column": null,
            "grid_gap": null,
            "grid_row": null,
            "grid_template_areas": null,
            "grid_template_columns": null,
            "grid_template_rows": null,
            "height": null,
            "justify_content": null,
            "justify_items": null,
            "left": null,
            "margin": null,
            "max_height": null,
            "max_width": null,
            "min_height": null,
            "min_width": null,
            "object_fit": null,
            "object_position": null,
            "order": null,
            "overflow": null,
            "overflow_x": null,
            "overflow_y": null,
            "padding": null,
            "right": null,
            "top": null,
            "visibility": null,
            "width": null
          }
        },
        "df394db022b6417bb675724fe1d79d16": {
          "model_module": "@jupyter-widgets/base",
          "model_name": "LayoutModel",
          "model_module_version": "1.2.0",
          "state": {
            "_model_module": "@jupyter-widgets/base",
            "_model_module_version": "1.2.0",
            "_model_name": "LayoutModel",
            "_view_count": null,
            "_view_module": "@jupyter-widgets/base",
            "_view_module_version": "1.2.0",
            "_view_name": "LayoutView",
            "align_content": null,
            "align_items": null,
            "align_self": null,
            "border": null,
            "bottom": null,
            "display": null,
            "flex": null,
            "flex_flow": null,
            "grid_area": null,
            "grid_auto_columns": null,
            "grid_auto_flow": null,
            "grid_auto_rows": null,
            "grid_column": null,
            "grid_gap": null,
            "grid_row": null,
            "grid_template_areas": null,
            "grid_template_columns": null,
            "grid_template_rows": null,
            "height": null,
            "justify_content": null,
            "justify_items": null,
            "left": null,
            "margin": null,
            "max_height": null,
            "max_width": null,
            "min_height": null,
            "min_width": null,
            "object_fit": null,
            "object_position": null,
            "order": null,
            "overflow": null,
            "overflow_x": null,
            "overflow_y": null,
            "padding": null,
            "right": null,
            "top": null,
            "visibility": null,
            "width": null
          }
        },
        "cd018282f4e74e3195d828dafff9c173": {
          "model_module": "@jupyter-widgets/controls",
          "model_name": "DescriptionStyleModel",
          "model_module_version": "1.5.0",
          "state": {
            "_model_module": "@jupyter-widgets/controls",
            "_model_module_version": "1.5.0",
            "_model_name": "DescriptionStyleModel",
            "_view_count": null,
            "_view_module": "@jupyter-widgets/base",
            "_view_module_version": "1.2.0",
            "_view_name": "StyleView",
            "description_width": ""
          }
        },
        "3336511101834c9f813e5149d81f4716": {
          "model_module": "@jupyter-widgets/base",
          "model_name": "LayoutModel",
          "model_module_version": "1.2.0",
          "state": {
            "_model_module": "@jupyter-widgets/base",
            "_model_module_version": "1.2.0",
            "_model_name": "LayoutModel",
            "_view_count": null,
            "_view_module": "@jupyter-widgets/base",
            "_view_module_version": "1.2.0",
            "_view_name": "LayoutView",
            "align_content": null,
            "align_items": null,
            "align_self": null,
            "border": null,
            "bottom": null,
            "display": null,
            "flex": null,
            "flex_flow": null,
            "grid_area": null,
            "grid_auto_columns": null,
            "grid_auto_flow": null,
            "grid_auto_rows": null,
            "grid_column": null,
            "grid_gap": null,
            "grid_row": null,
            "grid_template_areas": null,
            "grid_template_columns": null,
            "grid_template_rows": null,
            "height": null,
            "justify_content": null,
            "justify_items": null,
            "left": null,
            "margin": null,
            "max_height": null,
            "max_width": null,
            "min_height": null,
            "min_width": null,
            "object_fit": null,
            "object_position": null,
            "order": null,
            "overflow": null,
            "overflow_x": null,
            "overflow_y": null,
            "padding": null,
            "right": null,
            "top": null,
            "visibility": null,
            "width": null
          }
        },
        "1658670c68284666ac297a62f6278675": {
          "model_module": "@jupyter-widgets/controls",
          "model_name": "ProgressStyleModel",
          "model_module_version": "1.5.0",
          "state": {
            "_model_module": "@jupyter-widgets/controls",
            "_model_module_version": "1.5.0",
            "_model_name": "ProgressStyleModel",
            "_view_count": null,
            "_view_module": "@jupyter-widgets/base",
            "_view_module_version": "1.2.0",
            "_view_name": "StyleView",
            "bar_color": null,
            "description_width": ""
          }
        },
        "38c1cf6a9d6943e3b84efebc46a8754c": {
          "model_module": "@jupyter-widgets/base",
          "model_name": "LayoutModel",
          "model_module_version": "1.2.0",
          "state": {
            "_model_module": "@jupyter-widgets/base",
            "_model_module_version": "1.2.0",
            "_model_name": "LayoutModel",
            "_view_count": null,
            "_view_module": "@jupyter-widgets/base",
            "_view_module_version": "1.2.0",
            "_view_name": "LayoutView",
            "align_content": null,
            "align_items": null,
            "align_self": null,
            "border": null,
            "bottom": null,
            "display": null,
            "flex": null,
            "flex_flow": null,
            "grid_area": null,
            "grid_auto_columns": null,
            "grid_auto_flow": null,
            "grid_auto_rows": null,
            "grid_column": null,
            "grid_gap": null,
            "grid_row": null,
            "grid_template_areas": null,
            "grid_template_columns": null,
            "grid_template_rows": null,
            "height": null,
            "justify_content": null,
            "justify_items": null,
            "left": null,
            "margin": null,
            "max_height": null,
            "max_width": null,
            "min_height": null,
            "min_width": null,
            "object_fit": null,
            "object_position": null,
            "order": null,
            "overflow": null,
            "overflow_x": null,
            "overflow_y": null,
            "padding": null,
            "right": null,
            "top": null,
            "visibility": null,
            "width": null
          }
        },
        "8bc115c1137b49f6ba7fceb4a913b64e": {
          "model_module": "@jupyter-widgets/controls",
          "model_name": "DescriptionStyleModel",
          "model_module_version": "1.5.0",
          "state": {
            "_model_module": "@jupyter-widgets/controls",
            "_model_module_version": "1.5.0",
            "_model_name": "DescriptionStyleModel",
            "_view_count": null,
            "_view_module": "@jupyter-widgets/base",
            "_view_module_version": "1.2.0",
            "_view_name": "StyleView",
            "description_width": ""
          }
        }
      }
    }
  },
  "cells": [
    {
      "cell_type": "markdown",
      "source": [
        "#Using Word2Vec и FastText and nearest Neighbors with Annoy"
      ],
      "metadata": {
        "id": "1FqaIwiOwnYo"
      }
    },
    {
      "cell_type": "code",
      "source": [
        "!pip install pymorphy2 stop_words annoy"
      ],
      "metadata": {
        "colab": {
          "base_uri": "https://localhost:8080/"
        },
        "id": "uulZsdNzh40G",
        "outputId": "c96defe7-e150-4529-b449-6678b618b9cc"
      },
      "execution_count": 1,
      "outputs": [
        {
          "output_type": "stream",
          "name": "stdout",
          "text": [
            "Looking in indexes: https://pypi.org/simple, https://us-python.pkg.dev/colab-wheels/public/simple/\n",
            "Collecting pymorphy2\n",
            "  Downloading pymorphy2-0.9.1-py3-none-any.whl (55 kB)\n",
            "\u001b[K     |████████████████████████████████| 55 kB 2.8 MB/s \n",
            "\u001b[?25hCollecting stop_words\n",
            "  Downloading stop-words-2018.7.23.tar.gz (31 kB)\n",
            "Collecting annoy\n",
            "  Downloading annoy-1.17.1.tar.gz (647 kB)\n",
            "\u001b[K     |████████████████████████████████| 647 kB 19.6 MB/s \n",
            "\u001b[?25hCollecting docopt>=0.6\n",
            "  Downloading docopt-0.6.2.tar.gz (25 kB)\n",
            "Collecting dawg-python>=0.7.1\n",
            "  Downloading DAWG_Python-0.7.2-py2.py3-none-any.whl (11 kB)\n",
            "Collecting pymorphy2-dicts-ru<3.0,>=2.4\n",
            "  Downloading pymorphy2_dicts_ru-2.4.417127.4579844-py2.py3-none-any.whl (8.2 MB)\n",
            "\u001b[K     |████████████████████████████████| 8.2 MB 34.0 MB/s \n",
            "\u001b[?25hBuilding wheels for collected packages: docopt, stop-words, annoy\n",
            "  Building wheel for docopt (setup.py) ... \u001b[?25l\u001b[?25hdone\n",
            "  Created wheel for docopt: filename=docopt-0.6.2-py2.py3-none-any.whl size=13723 sha256=203405e107ce4733532afc6c1f5adb040264fe874e541b4b214b5eed04688328\n",
            "  Stored in directory: /root/.cache/pip/wheels/72/b0/3f/1d95f96ff986c7dfffe46ce2be4062f38ebd04b506c77c81b9\n",
            "  Building wheel for stop-words (setup.py) ... \u001b[?25l\u001b[?25hdone\n",
            "  Created wheel for stop-words: filename=stop_words-2018.7.23-py3-none-any.whl size=32911 sha256=3a2918054c51fdb915424ab9b52b6695116d25f6a4e7d4a548624091ed569485\n",
            "  Stored in directory: /root/.cache/pip/wheels/fb/86/b2/277b10b1ce9f73ce15059bf6975d4547cc4ec3feeb651978e9\n",
            "  Building wheel for annoy (setup.py) ... \u001b[?25l\u001b[?25hdone\n",
            "  Created wheel for annoy: filename=annoy-1.17.1-cp37-cp37m-linux_x86_64.whl size=395176 sha256=eaef7fcff39ac40d742137cea041deb775b0f2e5ff7e43476002d6e0d5339124\n",
            "  Stored in directory: /root/.cache/pip/wheels/81/94/bf/92cb0e4fef8770fe9c6df0ba588fca30ab7c306b6048ae8a54\n",
            "Successfully built docopt stop-words annoy\n",
            "Installing collected packages: pymorphy2-dicts-ru, docopt, dawg-python, stop-words, pymorphy2, annoy\n",
            "Successfully installed annoy-1.17.1 dawg-python-0.7.2 docopt-0.6.2 pymorphy2-0.9.1 pymorphy2-dicts-ru-2.4.417127.4579844 stop-words-2018.7.23\n"
          ]
        }
      ]
    },
    {
      "cell_type": "code",
      "source": [
        "import os\n",
        "import string\n",
        "from pymorphy2 import MorphAnalyzer\n",
        "from stop_words import get_stop_words\n",
        "import annoy\n",
        "from gensim.models import Word2Vec, FastText\n",
        "import pickle\n",
        "import numpy as np\n",
        "from tqdm import tqdm_notebook\n",
        "import pandas as pd\n",
        "import random"
      ],
      "metadata": {
        "id": "e8eTlGcCiMta"
      },
      "execution_count": 26,
      "outputs": []
    },
    {
      "cell_type": "code",
      "source": [
        "#загрузка данных с yandex disk\n",
        "!wget -O train.csv https://getfile.dokpub.com/yandex/get/https://disk.yandex.ru/d/03C9AjRJqukWcg"
      ],
      "metadata": {
        "colab": {
          "base_uri": "https://localhost:8080/"
        },
        "id": "iHi3xt2VyL15",
        "outputId": "4d384aca-50e7-4f86-b83b-b0734e962b2f"
      },
      "execution_count": 22,
      "outputs": [
        {
          "output_type": "stream",
          "name": "stdout",
          "text": [
            "--2022-10-24 21:01:36--  https://getfile.dokpub.com/yandex/get/https://disk.yandex.ru/d/03C9AjRJqukWcg\n",
            "Resolving getfile.dokpub.com (getfile.dokpub.com)... 142.132.255.217\n",
            "Connecting to getfile.dokpub.com (getfile.dokpub.com)|142.132.255.217|:443... connected.\n",
            "HTTP request sent, awaiting response... 302 Found\n",
            "Location: https://downloader.disk.yandex.ru/disk/f402cab5af28ca56cdfd21b0e47d365ea9480e8a0890d5ad4e8586c7981ecc62/6357350e/msMO0KQIAH3VfHbAiTRYc7IU3Nhh3xJ0wfmoVk6qNzxYgqaBMRY0efTvRnMIfEhMPEeBAfXl4uChRAP2dvlWOg%3D%3D?uid=0&filename=train_brands.csv&disposition=attachment&hash=Q%2BL0DOkc2P3%2BfmzFCyxRcXa2Pi%2B4abC8b81eIqanwFGKgEtQzyjIoJ0TbqC7RIGwq/J6bpmRyOJonT3VoXnDag%3D%3D%3A&limit=0&content_type=text%2Fplain&owner_uid=6709741&fsize=29759004&hid=d3075775f2ccb8067d5c2aa80ed316de&media_type=spreadsheet&tknv=v2 [following]\n",
            "--2022-10-24 21:01:37--  https://downloader.disk.yandex.ru/disk/f402cab5af28ca56cdfd21b0e47d365ea9480e8a0890d5ad4e8586c7981ecc62/6357350e/msMO0KQIAH3VfHbAiTRYc7IU3Nhh3xJ0wfmoVk6qNzxYgqaBMRY0efTvRnMIfEhMPEeBAfXl4uChRAP2dvlWOg%3D%3D?uid=0&filename=train_brands.csv&disposition=attachment&hash=Q%2BL0DOkc2P3%2BfmzFCyxRcXa2Pi%2B4abC8b81eIqanwFGKgEtQzyjIoJ0TbqC7RIGwq/J6bpmRyOJonT3VoXnDag%3D%3D%3A&limit=0&content_type=text%2Fplain&owner_uid=6709741&fsize=29759004&hid=d3075775f2ccb8067d5c2aa80ed316de&media_type=spreadsheet&tknv=v2\n",
            "Resolving downloader.disk.yandex.ru (downloader.disk.yandex.ru)... 77.88.21.127, 2a02:6b8::2:127\n",
            "Connecting to downloader.disk.yandex.ru (downloader.disk.yandex.ru)|77.88.21.127|:443... connected.\n",
            "HTTP request sent, awaiting response... 302 Found\n",
            "Location: https://s793sas.storage.yandex.net/rdisk/f402cab5af28ca56cdfd21b0e47d365ea9480e8a0890d5ad4e8586c7981ecc62/6357350e/msMO0KQIAH3VfHbAiTRYc7IU3Nhh3xJ0wfmoVk6qNzxYgqaBMRY0efTvRnMIfEhMPEeBAfXl4uChRAP2dvlWOg==?uid=0&filename=train_brands.csv&disposition=attachment&hash=Q%2BL0DOkc2P3%2BfmzFCyxRcXa2Pi%2B4abC8b81eIqanwFGKgEtQzyjIoJ0TbqC7RIGwq/J6bpmRyOJonT3VoXnDag%3D%3D%3A&limit=0&content_type=text%2Fplain&owner_uid=6709741&fsize=29759004&hid=d3075775f2ccb8067d5c2aa80ed316de&media_type=spreadsheet&tknv=v2&rtoken=IndmkGGpu5sO&force_default=no&ycrid=na-1bced500d02269fe3ae24aa5266f07b7-downloader4e&ts=5ebd16d4cdf80&s=f24671f72c7fa5a3925c33c00585d387743ad4f0e08441aa855297d1f964ca4e&pb=U2FsdGVkX18y5MXaKDwyQObI24uGemdsUO4JTOGTAyKD0-Is7tHQfAn_4oeNvZRhO_MQjqtTcZacE2ZqZPUwVazV2H4aibTjkXz3dGZ_KhE [following]\n",
            "--2022-10-24 21:01:38--  https://s793sas.storage.yandex.net/rdisk/f402cab5af28ca56cdfd21b0e47d365ea9480e8a0890d5ad4e8586c7981ecc62/6357350e/msMO0KQIAH3VfHbAiTRYc7IU3Nhh3xJ0wfmoVk6qNzxYgqaBMRY0efTvRnMIfEhMPEeBAfXl4uChRAP2dvlWOg==?uid=0&filename=train_brands.csv&disposition=attachment&hash=Q%2BL0DOkc2P3%2BfmzFCyxRcXa2Pi%2B4abC8b81eIqanwFGKgEtQzyjIoJ0TbqC7RIGwq/J6bpmRyOJonT3VoXnDag%3D%3D%3A&limit=0&content_type=text%2Fplain&owner_uid=6709741&fsize=29759004&hid=d3075775f2ccb8067d5c2aa80ed316de&media_type=spreadsheet&tknv=v2&rtoken=IndmkGGpu5sO&force_default=no&ycrid=na-1bced500d02269fe3ae24aa5266f07b7-downloader4e&ts=5ebd16d4cdf80&s=f24671f72c7fa5a3925c33c00585d387743ad4f0e08441aa855297d1f964ca4e&pb=U2FsdGVkX18y5MXaKDwyQObI24uGemdsUO4JTOGTAyKD0-Is7tHQfAn_4oeNvZRhO_MQjqtTcZacE2ZqZPUwVazV2H4aibTjkXz3dGZ_KhE\n",
            "Resolving s793sas.storage.yandex.net (s793sas.storage.yandex.net)... 5.255.228.155, 2a02:6b8:c02:1414:0:41af:65fb:df6d\n",
            "Connecting to s793sas.storage.yandex.net (s793sas.storage.yandex.net)|5.255.228.155|:443... connected.\n",
            "HTTP request sent, awaiting response... 200 OK\n",
            "Length: 29759004 (28M) [text/plain]\n",
            "Saving to: ‘train.csv’\n",
            "\n",
            "train.csv           100%[===================>]  28.38M  8.16MB/s    in 3.5s    \n",
            "\n",
            "2022-10-24 21:01:43 (8.16 MB/s) - ‘train.csv’ saved [29759004/29759004]\n",
            "\n"
          ]
        }
      ]
    },
    {
      "cell_type": "code",
      "source": [
        "train_path = 'train.csv'"
      ],
      "metadata": {
        "id": "hiqRMsGhpf8l"
      },
      "execution_count": 23,
      "outputs": []
    },
    {
      "cell_type": "code",
      "source": [
        "train_df = pd.read_csv(train_path)\n",
        "train_df"
      ],
      "metadata": {
        "colab": {
          "base_uri": "https://localhost:8080/",
          "height": 424
        },
        "id": "SkW_bBcs1cWt",
        "outputId": "6c444e1b-872a-4fae-947a-6d328f82cd11"
      },
      "execution_count": 24,
      "outputs": [
        {
          "output_type": "execute_result",
          "data": {
            "text/plain": [
              "        pair_id                                        name_1  \\\n",
              "0             1                           Iko Industries Ltd.   \n",
              "1             2                       Apcotex Industries Ltd.   \n",
              "2             3             Rishichem Distributors Pvt., Ltd.   \n",
              "3             4                       Powermax Rubber Factory   \n",
              "4             5                                     Tress A/S   \n",
              "...         ...                                           ...   \n",
              "497814   497815                              BIT-MAT PRODUCTS   \n",
              "497815   497816                         Bnd Trading Co., Ltd.   \n",
              "497816   497817  Xeikon Industrial Co., Ltd. Of Dongguan City   \n",
              "497817   497818            Shanghai Kechuan Trading Co., Ltd.   \n",
              "497818   497819                        Dih Wei Industries Co.   \n",
              "\n",
              "                                                   name_2  is_duplicate  \n",
              "0                    Enormous Industrial Trade Pvt., Ltd.             0  \n",
              "1                     Technocraft Industries (India) Ltd.             0  \n",
              "2                                                     Dsa             0  \n",
              "3                                                 Co. One             0  \n",
              "4                        Longyou Industries Park Zhejiang             0  \n",
              "...                                                   ...           ...  \n",
              "497814               The Goodyear Tire and Rubber Company             0  \n",
              "497815  Zhong Shan Yue Liang Economy& Trade Imp. & Exp...             0  \n",
              "497816        Yi Cheng Trading Co., Ltd. Of Dongguan City             0  \n",
              "497817                       Shanghai M&G Stationery Inc.             0  \n",
              "497818                    Burlington Industries Corporate             0  \n",
              "\n",
              "[497819 rows x 4 columns]"
            ],
            "text/html": [
              "\n",
              "  <div id=\"df-4415fd48-60aa-4db0-a388-82013a1068c4\">\n",
              "    <div class=\"colab-df-container\">\n",
              "      <div>\n",
              "<style scoped>\n",
              "    .dataframe tbody tr th:only-of-type {\n",
              "        vertical-align: middle;\n",
              "    }\n",
              "\n",
              "    .dataframe tbody tr th {\n",
              "        vertical-align: top;\n",
              "    }\n",
              "\n",
              "    .dataframe thead th {\n",
              "        text-align: right;\n",
              "    }\n",
              "</style>\n",
              "<table border=\"1\" class=\"dataframe\">\n",
              "  <thead>\n",
              "    <tr style=\"text-align: right;\">\n",
              "      <th></th>\n",
              "      <th>pair_id</th>\n",
              "      <th>name_1</th>\n",
              "      <th>name_2</th>\n",
              "      <th>is_duplicate</th>\n",
              "    </tr>\n",
              "  </thead>\n",
              "  <tbody>\n",
              "    <tr>\n",
              "      <th>0</th>\n",
              "      <td>1</td>\n",
              "      <td>Iko Industries Ltd.</td>\n",
              "      <td>Enormous Industrial Trade Pvt., Ltd.</td>\n",
              "      <td>0</td>\n",
              "    </tr>\n",
              "    <tr>\n",
              "      <th>1</th>\n",
              "      <td>2</td>\n",
              "      <td>Apcotex Industries Ltd.</td>\n",
              "      <td>Technocraft Industries (India) Ltd.</td>\n",
              "      <td>0</td>\n",
              "    </tr>\n",
              "    <tr>\n",
              "      <th>2</th>\n",
              "      <td>3</td>\n",
              "      <td>Rishichem Distributors Pvt., Ltd.</td>\n",
              "      <td>Dsa</td>\n",
              "      <td>0</td>\n",
              "    </tr>\n",
              "    <tr>\n",
              "      <th>3</th>\n",
              "      <td>4</td>\n",
              "      <td>Powermax Rubber Factory</td>\n",
              "      <td>Co. One</td>\n",
              "      <td>0</td>\n",
              "    </tr>\n",
              "    <tr>\n",
              "      <th>4</th>\n",
              "      <td>5</td>\n",
              "      <td>Tress A/S</td>\n",
              "      <td>Longyou Industries Park Zhejiang</td>\n",
              "      <td>0</td>\n",
              "    </tr>\n",
              "    <tr>\n",
              "      <th>...</th>\n",
              "      <td>...</td>\n",
              "      <td>...</td>\n",
              "      <td>...</td>\n",
              "      <td>...</td>\n",
              "    </tr>\n",
              "    <tr>\n",
              "      <th>497814</th>\n",
              "      <td>497815</td>\n",
              "      <td>BIT-MAT PRODUCTS</td>\n",
              "      <td>The Goodyear Tire and Rubber Company</td>\n",
              "      <td>0</td>\n",
              "    </tr>\n",
              "    <tr>\n",
              "      <th>497815</th>\n",
              "      <td>497816</td>\n",
              "      <td>Bnd Trading Co., Ltd.</td>\n",
              "      <td>Zhong Shan Yue Liang Economy&amp; Trade Imp. &amp; Exp...</td>\n",
              "      <td>0</td>\n",
              "    </tr>\n",
              "    <tr>\n",
              "      <th>497816</th>\n",
              "      <td>497817</td>\n",
              "      <td>Xeikon Industrial Co., Ltd. Of Dongguan City</td>\n",
              "      <td>Yi Cheng Trading Co., Ltd. Of Dongguan City</td>\n",
              "      <td>0</td>\n",
              "    </tr>\n",
              "    <tr>\n",
              "      <th>497817</th>\n",
              "      <td>497818</td>\n",
              "      <td>Shanghai Kechuan Trading Co., Ltd.</td>\n",
              "      <td>Shanghai M&amp;G Stationery Inc.</td>\n",
              "      <td>0</td>\n",
              "    </tr>\n",
              "    <tr>\n",
              "      <th>497818</th>\n",
              "      <td>497819</td>\n",
              "      <td>Dih Wei Industries Co.</td>\n",
              "      <td>Burlington Industries Corporate</td>\n",
              "      <td>0</td>\n",
              "    </tr>\n",
              "  </tbody>\n",
              "</table>\n",
              "<p>497819 rows × 4 columns</p>\n",
              "</div>\n",
              "      <button class=\"colab-df-convert\" onclick=\"convertToInteractive('df-4415fd48-60aa-4db0-a388-82013a1068c4')\"\n",
              "              title=\"Convert this dataframe to an interactive table.\"\n",
              "              style=\"display:none;\">\n",
              "        \n",
              "  <svg xmlns=\"http://www.w3.org/2000/svg\" height=\"24px\"viewBox=\"0 0 24 24\"\n",
              "       width=\"24px\">\n",
              "    <path d=\"M0 0h24v24H0V0z\" fill=\"none\"/>\n",
              "    <path d=\"M18.56 5.44l.94 2.06.94-2.06 2.06-.94-2.06-.94-.94-2.06-.94 2.06-2.06.94zm-11 1L8.5 8.5l.94-2.06 2.06-.94-2.06-.94L8.5 2.5l-.94 2.06-2.06.94zm10 10l.94 2.06.94-2.06 2.06-.94-2.06-.94-.94-2.06-.94 2.06-2.06.94z\"/><path d=\"M17.41 7.96l-1.37-1.37c-.4-.4-.92-.59-1.43-.59-.52 0-1.04.2-1.43.59L10.3 9.45l-7.72 7.72c-.78.78-.78 2.05 0 2.83L4 21.41c.39.39.9.59 1.41.59.51 0 1.02-.2 1.41-.59l7.78-7.78 2.81-2.81c.8-.78.8-2.07 0-2.86zM5.41 20L4 18.59l7.72-7.72 1.47 1.35L5.41 20z\"/>\n",
              "  </svg>\n",
              "      </button>\n",
              "      \n",
              "  <style>\n",
              "    .colab-df-container {\n",
              "      display:flex;\n",
              "      flex-wrap:wrap;\n",
              "      gap: 12px;\n",
              "    }\n",
              "\n",
              "    .colab-df-convert {\n",
              "      background-color: #E8F0FE;\n",
              "      border: none;\n",
              "      border-radius: 50%;\n",
              "      cursor: pointer;\n",
              "      display: none;\n",
              "      fill: #1967D2;\n",
              "      height: 32px;\n",
              "      padding: 0 0 0 0;\n",
              "      width: 32px;\n",
              "    }\n",
              "\n",
              "    .colab-df-convert:hover {\n",
              "      background-color: #E2EBFA;\n",
              "      box-shadow: 0px 1px 2px rgba(60, 64, 67, 0.3), 0px 1px 3px 1px rgba(60, 64, 67, 0.15);\n",
              "      fill: #174EA6;\n",
              "    }\n",
              "\n",
              "    [theme=dark] .colab-df-convert {\n",
              "      background-color: #3B4455;\n",
              "      fill: #D2E3FC;\n",
              "    }\n",
              "\n",
              "    [theme=dark] .colab-df-convert:hover {\n",
              "      background-color: #434B5C;\n",
              "      box-shadow: 0px 1px 3px 1px rgba(0, 0, 0, 0.15);\n",
              "      filter: drop-shadow(0px 1px 2px rgba(0, 0, 0, 0.3));\n",
              "      fill: #FFFFFF;\n",
              "    }\n",
              "  </style>\n",
              "\n",
              "      <script>\n",
              "        const buttonEl =\n",
              "          document.querySelector('#df-4415fd48-60aa-4db0-a388-82013a1068c4 button.colab-df-convert');\n",
              "        buttonEl.style.display =\n",
              "          google.colab.kernel.accessAllowed ? 'block' : 'none';\n",
              "\n",
              "        async function convertToInteractive(key) {\n",
              "          const element = document.querySelector('#df-4415fd48-60aa-4db0-a388-82013a1068c4');\n",
              "          const dataTable =\n",
              "            await google.colab.kernel.invokeFunction('convertToInteractive',\n",
              "                                                     [key], {});\n",
              "          if (!dataTable) return;\n",
              "\n",
              "          const docLinkHtml = 'Like what you see? Visit the ' +\n",
              "            '<a target=\"_blank\" href=https://colab.research.google.com/notebooks/data_table.ipynb>data table notebook</a>'\n",
              "            + ' to learn more about interactive tables.';\n",
              "          element.innerHTML = '';\n",
              "          dataTable['output_type'] = 'display_data';\n",
              "          await google.colab.output.renderOutput(dataTable, element);\n",
              "          const docLink = document.createElement('div');\n",
              "          docLink.innerHTML = docLinkHtml;\n",
              "          element.appendChild(docLink);\n",
              "        }\n",
              "      </script>\n",
              "    </div>\n",
              "  </div>\n",
              "  "
            ]
          },
          "metadata": {},
          "execution_count": 24
        }
      ]
    },
    {
      "cell_type": "code",
      "source": [
        "train_df.is_duplicate.value_counts()"
      ],
      "metadata": {
        "colab": {
          "base_uri": "https://localhost:8080/"
        },
        "id": "YiHGPTRSlwUv",
        "outputId": "bed33cf4-35f0-4e6c-e5bf-50f8ea4cea6c"
      },
      "execution_count": 5,
      "outputs": [
        {
          "output_type": "execute_result",
          "data": {
            "text/plain": [
              "0    494161\n",
              "1      3658\n",
              "Name: is_duplicate, dtype: int64"
            ]
          },
          "metadata": {},
          "execution_count": 5
        }
      ]
    },
    {
      "cell_type": "code",
      "source": [
        "train_df.is_duplicate.value_counts(normalize=True)*100"
      ],
      "metadata": {
        "colab": {
          "base_uri": "https://localhost:8080/"
        },
        "id": "lBdDJpyipr8A",
        "outputId": "40ff6ea5-ee28-423d-e60a-87d3587f50a9"
      },
      "execution_count": 6,
      "outputs": [
        {
          "output_type": "execute_result",
          "data": {
            "text/plain": [
              "0    99.265195\n",
              "1     0.734805\n",
              "Name: is_duplicate, dtype: float64"
            ]
          },
          "metadata": {},
          "execution_count": 6
        }
      ]
    },
    {
      "cell_type": "code",
      "source": [
        "train_df[train_df.is_duplicate==1][:20]"
      ],
      "metadata": {
        "colab": {
          "base_uri": "https://localhost:8080/",
          "height": 677
        },
        "id": "FpF39gO2mPbz",
        "outputId": "d5031ae4-f27c-4ed5-cf64-7ea989a1a62c"
      },
      "execution_count": null,
      "outputs": [
        {
          "output_type": "execute_result",
          "data": {
            "text/plain": [
              "      pair_id                                         name_1  \\\n",
              "161       162  JX Nippon Oil & Gas Exploration (Brasil) Ltda   \n",
              "603       604                    Pirelli Neumaticos S.A.I.C.   \n",
              "835       836                  Brenntag Australia (Pty) Ltd.   \n",
              "1328     1329         PAUL BAUDER GMBH & CO KG, BOCHUM PLANT   \n",
              "1562     1563                   TOTAL CESKA REPUBLIKA s.r.o.   \n",
              "1786     1787                  Pt Bridgestone Tire Indonesia   \n",
              "1798     1799                           Brenntag Peru S.A.C.   \n",
              "1962     1963        Carlisle Coatings & Waterproofing, Inc.   \n",
              "2054     2055                  Pt Bridgestone Tire Indonesia   \n",
              "2772     2773                     Onduline Polska Sp. z o.o.   \n",
              "2790     2791                               Rhino Rugby Ltd.   \n",
              "2798     2799                      Bridgestone Americas Tire   \n",
              "2815     2816                                 TOTAL BITUMEN*   \n",
              "3099     3100                Sumitomo Rubber Usa 10 Sheridan   \n",
              "3169     3170                                 Basf Co., Ltd.   \n",
              "3276     3277  JX Nippon Oil & Gas Exploration (Brasil) Ltda   \n",
              "3371     3372                            ООО Химинвест групп   \n",
              "3492     3493    Bridgestone Neumaticos De Monterreysa De Cv   \n",
              "3699     3700                     Zeon India Private Limited   \n",
              "3842     3843                                   Dow Chemical   \n",
              "\n",
              "                                                 name_2  is_duplicate  \n",
              "161   JX Nippon Oil & Gas Exploration Technical Serv...             1  \n",
              "603                              Pirelli Tyre Co., Ltd.             1  \n",
              "835                                      Brenntag Group             1  \n",
              "1328                                     Paul Bauder ag             1  \n",
              "1562                        TOTAL FRANCE (ARNAY LE DUC)             1  \n",
              "1786   Bridgestone Do Brasil Industria E Comenrcio Ltda             1  \n",
              "1798                                     Brenntag Group             1  \n",
              "1962                       Carlisle Coatings & Wtrprfng             1  \n",
              "2054                         Thai Bridgestone Co., Ltd.             1  \n",
              "2772                                      Onduline S.A.             1  \n",
              "2790                                 Rhino Rugby France             1  \n",
              "2798                    Bridgestone International Group             1  \n",
              "2815                               TOTAL CZECH REPUBLIC             1  \n",
              "3099                      Sumitomo Rubber Industriesusa             1  \n",
              "3169                    Basf Japan Ltd. 6 10 1 Roppongi             1  \n",
              "3276     JX Nippon Oil & Gas Exploration (Sarawak), Ltd             1  \n",
              "3371                               ХИМИНВЕСТ ГРУПП, ООО             1  \n",
              "3492                                    Bridgestone Ncr             1  \n",
              "3699                        ZEON Corporation (TSE:4205)             1  \n",
              "3842                               Dow Chemical Pacific             1  "
            ],
            "text/html": [
              "\n",
              "  <div id=\"df-4eccbfc6-a304-4b92-b96f-8174b0ebef68\">\n",
              "    <div class=\"colab-df-container\">\n",
              "      <div>\n",
              "<style scoped>\n",
              "    .dataframe tbody tr th:only-of-type {\n",
              "        vertical-align: middle;\n",
              "    }\n",
              "\n",
              "    .dataframe tbody tr th {\n",
              "        vertical-align: top;\n",
              "    }\n",
              "\n",
              "    .dataframe thead th {\n",
              "        text-align: right;\n",
              "    }\n",
              "</style>\n",
              "<table border=\"1\" class=\"dataframe\">\n",
              "  <thead>\n",
              "    <tr style=\"text-align: right;\">\n",
              "      <th></th>\n",
              "      <th>pair_id</th>\n",
              "      <th>name_1</th>\n",
              "      <th>name_2</th>\n",
              "      <th>is_duplicate</th>\n",
              "    </tr>\n",
              "  </thead>\n",
              "  <tbody>\n",
              "    <tr>\n",
              "      <th>161</th>\n",
              "      <td>162</td>\n",
              "      <td>JX Nippon Oil &amp; Gas Exploration (Brasil) Ltda</td>\n",
              "      <td>JX Nippon Oil &amp; Gas Exploration Technical Serv...</td>\n",
              "      <td>1</td>\n",
              "    </tr>\n",
              "    <tr>\n",
              "      <th>603</th>\n",
              "      <td>604</td>\n",
              "      <td>Pirelli Neumaticos S.A.I.C.</td>\n",
              "      <td>Pirelli Tyre Co., Ltd.</td>\n",
              "      <td>1</td>\n",
              "    </tr>\n",
              "    <tr>\n",
              "      <th>835</th>\n",
              "      <td>836</td>\n",
              "      <td>Brenntag Australia (Pty) Ltd.</td>\n",
              "      <td>Brenntag Group</td>\n",
              "      <td>1</td>\n",
              "    </tr>\n",
              "    <tr>\n",
              "      <th>1328</th>\n",
              "      <td>1329</td>\n",
              "      <td>PAUL BAUDER GMBH &amp; CO KG, BOCHUM PLANT</td>\n",
              "      <td>Paul Bauder ag</td>\n",
              "      <td>1</td>\n",
              "    </tr>\n",
              "    <tr>\n",
              "      <th>1562</th>\n",
              "      <td>1563</td>\n",
              "      <td>TOTAL CESKA REPUBLIKA s.r.o.</td>\n",
              "      <td>TOTAL FRANCE (ARNAY LE DUC)</td>\n",
              "      <td>1</td>\n",
              "    </tr>\n",
              "    <tr>\n",
              "      <th>1786</th>\n",
              "      <td>1787</td>\n",
              "      <td>Pt Bridgestone Tire Indonesia</td>\n",
              "      <td>Bridgestone Do Brasil Industria E Comenrcio Ltda</td>\n",
              "      <td>1</td>\n",
              "    </tr>\n",
              "    <tr>\n",
              "      <th>1798</th>\n",
              "      <td>1799</td>\n",
              "      <td>Brenntag Peru S.A.C.</td>\n",
              "      <td>Brenntag Group</td>\n",
              "      <td>1</td>\n",
              "    </tr>\n",
              "    <tr>\n",
              "      <th>1962</th>\n",
              "      <td>1963</td>\n",
              "      <td>Carlisle Coatings &amp; Waterproofing, Inc.</td>\n",
              "      <td>Carlisle Coatings &amp; Wtrprfng</td>\n",
              "      <td>1</td>\n",
              "    </tr>\n",
              "    <tr>\n",
              "      <th>2054</th>\n",
              "      <td>2055</td>\n",
              "      <td>Pt Bridgestone Tire Indonesia</td>\n",
              "      <td>Thai Bridgestone Co., Ltd.</td>\n",
              "      <td>1</td>\n",
              "    </tr>\n",
              "    <tr>\n",
              "      <th>2772</th>\n",
              "      <td>2773</td>\n",
              "      <td>Onduline Polska Sp. z o.o.</td>\n",
              "      <td>Onduline S.A.</td>\n",
              "      <td>1</td>\n",
              "    </tr>\n",
              "    <tr>\n",
              "      <th>2790</th>\n",
              "      <td>2791</td>\n",
              "      <td>Rhino Rugby Ltd.</td>\n",
              "      <td>Rhino Rugby France</td>\n",
              "      <td>1</td>\n",
              "    </tr>\n",
              "    <tr>\n",
              "      <th>2798</th>\n",
              "      <td>2799</td>\n",
              "      <td>Bridgestone Americas Tire</td>\n",
              "      <td>Bridgestone International Group</td>\n",
              "      <td>1</td>\n",
              "    </tr>\n",
              "    <tr>\n",
              "      <th>2815</th>\n",
              "      <td>2816</td>\n",
              "      <td>TOTAL BITUMEN*</td>\n",
              "      <td>TOTAL CZECH REPUBLIC</td>\n",
              "      <td>1</td>\n",
              "    </tr>\n",
              "    <tr>\n",
              "      <th>3099</th>\n",
              "      <td>3100</td>\n",
              "      <td>Sumitomo Rubber Usa 10 Sheridan</td>\n",
              "      <td>Sumitomo Rubber Industriesusa</td>\n",
              "      <td>1</td>\n",
              "    </tr>\n",
              "    <tr>\n",
              "      <th>3169</th>\n",
              "      <td>3170</td>\n",
              "      <td>Basf Co., Ltd.</td>\n",
              "      <td>Basf Japan Ltd. 6 10 1 Roppongi</td>\n",
              "      <td>1</td>\n",
              "    </tr>\n",
              "    <tr>\n",
              "      <th>3276</th>\n",
              "      <td>3277</td>\n",
              "      <td>JX Nippon Oil &amp; Gas Exploration (Brasil) Ltda</td>\n",
              "      <td>JX Nippon Oil &amp; Gas Exploration (Sarawak), Ltd</td>\n",
              "      <td>1</td>\n",
              "    </tr>\n",
              "    <tr>\n",
              "      <th>3371</th>\n",
              "      <td>3372</td>\n",
              "      <td>ООО Химинвест групп</td>\n",
              "      <td>ХИМИНВЕСТ ГРУПП, ООО</td>\n",
              "      <td>1</td>\n",
              "    </tr>\n",
              "    <tr>\n",
              "      <th>3492</th>\n",
              "      <td>3493</td>\n",
              "      <td>Bridgestone Neumaticos De Monterreysa De Cv</td>\n",
              "      <td>Bridgestone Ncr</td>\n",
              "      <td>1</td>\n",
              "    </tr>\n",
              "    <tr>\n",
              "      <th>3699</th>\n",
              "      <td>3700</td>\n",
              "      <td>Zeon India Private Limited</td>\n",
              "      <td>ZEON Corporation (TSE:4205)</td>\n",
              "      <td>1</td>\n",
              "    </tr>\n",
              "    <tr>\n",
              "      <th>3842</th>\n",
              "      <td>3843</td>\n",
              "      <td>Dow Chemical</td>\n",
              "      <td>Dow Chemical Pacific</td>\n",
              "      <td>1</td>\n",
              "    </tr>\n",
              "  </tbody>\n",
              "</table>\n",
              "</div>\n",
              "      <button class=\"colab-df-convert\" onclick=\"convertToInteractive('df-4eccbfc6-a304-4b92-b96f-8174b0ebef68')\"\n",
              "              title=\"Convert this dataframe to an interactive table.\"\n",
              "              style=\"display:none;\">\n",
              "        \n",
              "  <svg xmlns=\"http://www.w3.org/2000/svg\" height=\"24px\"viewBox=\"0 0 24 24\"\n",
              "       width=\"24px\">\n",
              "    <path d=\"M0 0h24v24H0V0z\" fill=\"none\"/>\n",
              "    <path d=\"M18.56 5.44l.94 2.06.94-2.06 2.06-.94-2.06-.94-.94-2.06-.94 2.06-2.06.94zm-11 1L8.5 8.5l.94-2.06 2.06-.94-2.06-.94L8.5 2.5l-.94 2.06-2.06.94zm10 10l.94 2.06.94-2.06 2.06-.94-2.06-.94-.94-2.06-.94 2.06-2.06.94z\"/><path d=\"M17.41 7.96l-1.37-1.37c-.4-.4-.92-.59-1.43-.59-.52 0-1.04.2-1.43.59L10.3 9.45l-7.72 7.72c-.78.78-.78 2.05 0 2.83L4 21.41c.39.39.9.59 1.41.59.51 0 1.02-.2 1.41-.59l7.78-7.78 2.81-2.81c.8-.78.8-2.07 0-2.86zM5.41 20L4 18.59l7.72-7.72 1.47 1.35L5.41 20z\"/>\n",
              "  </svg>\n",
              "      </button>\n",
              "      \n",
              "  <style>\n",
              "    .colab-df-container {\n",
              "      display:flex;\n",
              "      flex-wrap:wrap;\n",
              "      gap: 12px;\n",
              "    }\n",
              "\n",
              "    .colab-df-convert {\n",
              "      background-color: #E8F0FE;\n",
              "      border: none;\n",
              "      border-radius: 50%;\n",
              "      cursor: pointer;\n",
              "      display: none;\n",
              "      fill: #1967D2;\n",
              "      height: 32px;\n",
              "      padding: 0 0 0 0;\n",
              "      width: 32px;\n",
              "    }\n",
              "\n",
              "    .colab-df-convert:hover {\n",
              "      background-color: #E2EBFA;\n",
              "      box-shadow: 0px 1px 2px rgba(60, 64, 67, 0.3), 0px 1px 3px 1px rgba(60, 64, 67, 0.15);\n",
              "      fill: #174EA6;\n",
              "    }\n",
              "\n",
              "    [theme=dark] .colab-df-convert {\n",
              "      background-color: #3B4455;\n",
              "      fill: #D2E3FC;\n",
              "    }\n",
              "\n",
              "    [theme=dark] .colab-df-convert:hover {\n",
              "      background-color: #434B5C;\n",
              "      box-shadow: 0px 1px 3px 1px rgba(0, 0, 0, 0.15);\n",
              "      filter: drop-shadow(0px 1px 2px rgba(0, 0, 0, 0.3));\n",
              "      fill: #FFFFFF;\n",
              "    }\n",
              "  </style>\n",
              "\n",
              "      <script>\n",
              "        const buttonEl =\n",
              "          document.querySelector('#df-4eccbfc6-a304-4b92-b96f-8174b0ebef68 button.colab-df-convert');\n",
              "        buttonEl.style.display =\n",
              "          google.colab.kernel.accessAllowed ? 'block' : 'none';\n",
              "\n",
              "        async function convertToInteractive(key) {\n",
              "          const element = document.querySelector('#df-4eccbfc6-a304-4b92-b96f-8174b0ebef68');\n",
              "          const dataTable =\n",
              "            await google.colab.kernel.invokeFunction('convertToInteractive',\n",
              "                                                     [key], {});\n",
              "          if (!dataTable) return;\n",
              "\n",
              "          const docLinkHtml = 'Like what you see? Visit the ' +\n",
              "            '<a target=\"_blank\" href=https://colab.research.google.com/notebooks/data_table.ipynb>data table notebook</a>'\n",
              "            + ' to learn more about interactive tables.';\n",
              "          element.innerHTML = '';\n",
              "          dataTable['output_type'] = 'display_data';\n",
              "          await google.colab.output.renderOutput(dataTable, element);\n",
              "          const docLink = document.createElement('div');\n",
              "          docLink.innerHTML = docLinkHtml;\n",
              "          element.appendChild(docLink);\n",
              "        }\n",
              "      </script>\n",
              "    </div>\n",
              "  </div>\n",
              "  "
            ]
          },
          "metadata": {},
          "execution_count": 7
        }
      ]
    },
    {
      "cell_type": "code",
      "source": [
        "train_df[train_df.is_duplicate==0].tail(20)"
      ],
      "metadata": {
        "colab": {
          "base_uri": "https://localhost:8080/",
          "height": 677
        },
        "id": "uO1LN4t7m9sd",
        "outputId": "174c373c-c35a-42c1-d5b6-9817857f6d2b"
      },
      "execution_count": null,
      "outputs": [
        {
          "output_type": "execute_result",
          "data": {
            "text/plain": [
              "        pair_id                                             name_1  \\\n",
              "497799   497800                                               Smtc   \n",
              "497800   497801                   Automotive Performance Materials   \n",
              "497801   497802                    Eoc Polymers India Private Ltd.   \n",
              "497802   497803               Shanghai Gaoxinke Plastics Co., Ltd.   \n",
              "497803   497804  Qingdao Yang Ming International Material Techn...   \n",
              "497804   497805                             Societe Des Transports   \n",
              "497805   497806                                  D.S International   \n",
              "497806   497807                                    Savita Polymers   \n",
              "497807   497808                                Exel Logistics Inc.   \n",
              "497808   497809            Computime Electric (Shenzhen) Co., Ltd.   \n",
              "497809   497810        Dafu Children Articles (Shenzhen) Co., Ltd.   \n",
              "497810   497811              Shanghai Haizhige Furniture Co., Ltd.   \n",
              "497811   497812                    Open Vision General Trading Llc   \n",
              "497812   497813                       Highline General Trading Co.   \n",
              "497813   497814                                        Trinseo API   \n",
              "497814   497815                                   BIT-MAT PRODUCTS   \n",
              "497815   497816                              Bnd Trading Co., Ltd.   \n",
              "497816   497817       Xeikon Industrial Co., Ltd. Of Dongguan City   \n",
              "497817   497818                 Shanghai Kechuan Trading Co., Ltd.   \n",
              "497818   497819                             Dih Wei Industries Co.   \n",
              "\n",
              "                                                   name_2  is_duplicate  \n",
              "497799                     Forward Plastic(Shenzhen) Ltd.             0  \n",
              "497800                         Swisspor Polska Sp. z o.o.             0  \n",
              "497801                    Imp. Express India Private Ltd.             0  \n",
              "497802           Huangyan Xingtai Plastic Mould Co., Ltd.             0  \n",
              "497803                          Llc Chemical Technologies             0  \n",
              "497804                                 Ho Sports Co. Inc.             0  \n",
              "497805                Titron Rubber Industries (M) Sdn. B             0  \n",
              "497806                        T.A. Corporation Pvt., Ltd.             0  \n",
              "497807                                  Jh Logistics Inc.             0  \n",
              "497808                                  A S International             0  \n",
              "497809                                           Dff Inc.             0  \n",
              "497810                                Sharang Corporation             0  \n",
              "497811                Al Irtekaz National General Trading             0  \n",
              "497812                             D Donato Trading Srl .             0  \n",
              "497813                                   BATEC GROUP GmbH             0  \n",
              "497814               The Goodyear Tire and Rubber Company             0  \n",
              "497815  Zhong Shan Yue Liang Economy& Trade Imp. & Exp...             0  \n",
              "497816        Yi Cheng Trading Co., Ltd. Of Dongguan City             0  \n",
              "497817                       Shanghai M&G Stationery Inc.             0  \n",
              "497818                    Burlington Industries Corporate             0  "
            ],
            "text/html": [
              "\n",
              "  <div id=\"df-8f6d5a80-2185-438a-889a-663601f7a0ae\">\n",
              "    <div class=\"colab-df-container\">\n",
              "      <div>\n",
              "<style scoped>\n",
              "    .dataframe tbody tr th:only-of-type {\n",
              "        vertical-align: middle;\n",
              "    }\n",
              "\n",
              "    .dataframe tbody tr th {\n",
              "        vertical-align: top;\n",
              "    }\n",
              "\n",
              "    .dataframe thead th {\n",
              "        text-align: right;\n",
              "    }\n",
              "</style>\n",
              "<table border=\"1\" class=\"dataframe\">\n",
              "  <thead>\n",
              "    <tr style=\"text-align: right;\">\n",
              "      <th></th>\n",
              "      <th>pair_id</th>\n",
              "      <th>name_1</th>\n",
              "      <th>name_2</th>\n",
              "      <th>is_duplicate</th>\n",
              "    </tr>\n",
              "  </thead>\n",
              "  <tbody>\n",
              "    <tr>\n",
              "      <th>497799</th>\n",
              "      <td>497800</td>\n",
              "      <td>Smtc</td>\n",
              "      <td>Forward Plastic(Shenzhen) Ltd.</td>\n",
              "      <td>0</td>\n",
              "    </tr>\n",
              "    <tr>\n",
              "      <th>497800</th>\n",
              "      <td>497801</td>\n",
              "      <td>Automotive Performance Materials</td>\n",
              "      <td>Swisspor Polska Sp. z o.o.</td>\n",
              "      <td>0</td>\n",
              "    </tr>\n",
              "    <tr>\n",
              "      <th>497801</th>\n",
              "      <td>497802</td>\n",
              "      <td>Eoc Polymers India Private Ltd.</td>\n",
              "      <td>Imp. Express India Private Ltd.</td>\n",
              "      <td>0</td>\n",
              "    </tr>\n",
              "    <tr>\n",
              "      <th>497802</th>\n",
              "      <td>497803</td>\n",
              "      <td>Shanghai Gaoxinke Plastics Co., Ltd.</td>\n",
              "      <td>Huangyan Xingtai Plastic Mould Co., Ltd.</td>\n",
              "      <td>0</td>\n",
              "    </tr>\n",
              "    <tr>\n",
              "      <th>497803</th>\n",
              "      <td>497804</td>\n",
              "      <td>Qingdao Yang Ming International Material Techn...</td>\n",
              "      <td>Llc Chemical Technologies</td>\n",
              "      <td>0</td>\n",
              "    </tr>\n",
              "    <tr>\n",
              "      <th>497804</th>\n",
              "      <td>497805</td>\n",
              "      <td>Societe Des Transports</td>\n",
              "      <td>Ho Sports Co. Inc.</td>\n",
              "      <td>0</td>\n",
              "    </tr>\n",
              "    <tr>\n",
              "      <th>497805</th>\n",
              "      <td>497806</td>\n",
              "      <td>D.S International</td>\n",
              "      <td>Titron Rubber Industries (M) Sdn. B</td>\n",
              "      <td>0</td>\n",
              "    </tr>\n",
              "    <tr>\n",
              "      <th>497806</th>\n",
              "      <td>497807</td>\n",
              "      <td>Savita Polymers</td>\n",
              "      <td>T.A. Corporation Pvt., Ltd.</td>\n",
              "      <td>0</td>\n",
              "    </tr>\n",
              "    <tr>\n",
              "      <th>497807</th>\n",
              "      <td>497808</td>\n",
              "      <td>Exel Logistics Inc.</td>\n",
              "      <td>Jh Logistics Inc.</td>\n",
              "      <td>0</td>\n",
              "    </tr>\n",
              "    <tr>\n",
              "      <th>497808</th>\n",
              "      <td>497809</td>\n",
              "      <td>Computime Electric (Shenzhen) Co., Ltd.</td>\n",
              "      <td>A S International</td>\n",
              "      <td>0</td>\n",
              "    </tr>\n",
              "    <tr>\n",
              "      <th>497809</th>\n",
              "      <td>497810</td>\n",
              "      <td>Dafu Children Articles (Shenzhen) Co., Ltd.</td>\n",
              "      <td>Dff Inc.</td>\n",
              "      <td>0</td>\n",
              "    </tr>\n",
              "    <tr>\n",
              "      <th>497810</th>\n",
              "      <td>497811</td>\n",
              "      <td>Shanghai Haizhige Furniture Co., Ltd.</td>\n",
              "      <td>Sharang Corporation</td>\n",
              "      <td>0</td>\n",
              "    </tr>\n",
              "    <tr>\n",
              "      <th>497811</th>\n",
              "      <td>497812</td>\n",
              "      <td>Open Vision General Trading Llc</td>\n",
              "      <td>Al Irtekaz National General Trading</td>\n",
              "      <td>0</td>\n",
              "    </tr>\n",
              "    <tr>\n",
              "      <th>497812</th>\n",
              "      <td>497813</td>\n",
              "      <td>Highline General Trading Co.</td>\n",
              "      <td>D Donato Trading Srl .</td>\n",
              "      <td>0</td>\n",
              "    </tr>\n",
              "    <tr>\n",
              "      <th>497813</th>\n",
              "      <td>497814</td>\n",
              "      <td>Trinseo API</td>\n",
              "      <td>BATEC GROUP GmbH</td>\n",
              "      <td>0</td>\n",
              "    </tr>\n",
              "    <tr>\n",
              "      <th>497814</th>\n",
              "      <td>497815</td>\n",
              "      <td>BIT-MAT PRODUCTS</td>\n",
              "      <td>The Goodyear Tire and Rubber Company</td>\n",
              "      <td>0</td>\n",
              "    </tr>\n",
              "    <tr>\n",
              "      <th>497815</th>\n",
              "      <td>497816</td>\n",
              "      <td>Bnd Trading Co., Ltd.</td>\n",
              "      <td>Zhong Shan Yue Liang Economy&amp; Trade Imp. &amp; Exp...</td>\n",
              "      <td>0</td>\n",
              "    </tr>\n",
              "    <tr>\n",
              "      <th>497816</th>\n",
              "      <td>497817</td>\n",
              "      <td>Xeikon Industrial Co., Ltd. Of Dongguan City</td>\n",
              "      <td>Yi Cheng Trading Co., Ltd. Of Dongguan City</td>\n",
              "      <td>0</td>\n",
              "    </tr>\n",
              "    <tr>\n",
              "      <th>497817</th>\n",
              "      <td>497818</td>\n",
              "      <td>Shanghai Kechuan Trading Co., Ltd.</td>\n",
              "      <td>Shanghai M&amp;G Stationery Inc.</td>\n",
              "      <td>0</td>\n",
              "    </tr>\n",
              "    <tr>\n",
              "      <th>497818</th>\n",
              "      <td>497819</td>\n",
              "      <td>Dih Wei Industries Co.</td>\n",
              "      <td>Burlington Industries Corporate</td>\n",
              "      <td>0</td>\n",
              "    </tr>\n",
              "  </tbody>\n",
              "</table>\n",
              "</div>\n",
              "      <button class=\"colab-df-convert\" onclick=\"convertToInteractive('df-8f6d5a80-2185-438a-889a-663601f7a0ae')\"\n",
              "              title=\"Convert this dataframe to an interactive table.\"\n",
              "              style=\"display:none;\">\n",
              "        \n",
              "  <svg xmlns=\"http://www.w3.org/2000/svg\" height=\"24px\"viewBox=\"0 0 24 24\"\n",
              "       width=\"24px\">\n",
              "    <path d=\"M0 0h24v24H0V0z\" fill=\"none\"/>\n",
              "    <path d=\"M18.56 5.44l.94 2.06.94-2.06 2.06-.94-2.06-.94-.94-2.06-.94 2.06-2.06.94zm-11 1L8.5 8.5l.94-2.06 2.06-.94-2.06-.94L8.5 2.5l-.94 2.06-2.06.94zm10 10l.94 2.06.94-2.06 2.06-.94-2.06-.94-.94-2.06-.94 2.06-2.06.94z\"/><path d=\"M17.41 7.96l-1.37-1.37c-.4-.4-.92-.59-1.43-.59-.52 0-1.04.2-1.43.59L10.3 9.45l-7.72 7.72c-.78.78-.78 2.05 0 2.83L4 21.41c.39.39.9.59 1.41.59.51 0 1.02-.2 1.41-.59l7.78-7.78 2.81-2.81c.8-.78.8-2.07 0-2.86zM5.41 20L4 18.59l7.72-7.72 1.47 1.35L5.41 20z\"/>\n",
              "  </svg>\n",
              "      </button>\n",
              "      \n",
              "  <style>\n",
              "    .colab-df-container {\n",
              "      display:flex;\n",
              "      flex-wrap:wrap;\n",
              "      gap: 12px;\n",
              "    }\n",
              "\n",
              "    .colab-df-convert {\n",
              "      background-color: #E8F0FE;\n",
              "      border: none;\n",
              "      border-radius: 50%;\n",
              "      cursor: pointer;\n",
              "      display: none;\n",
              "      fill: #1967D2;\n",
              "      height: 32px;\n",
              "      padding: 0 0 0 0;\n",
              "      width: 32px;\n",
              "    }\n",
              "\n",
              "    .colab-df-convert:hover {\n",
              "      background-color: #E2EBFA;\n",
              "      box-shadow: 0px 1px 2px rgba(60, 64, 67, 0.3), 0px 1px 3px 1px rgba(60, 64, 67, 0.15);\n",
              "      fill: #174EA6;\n",
              "    }\n",
              "\n",
              "    [theme=dark] .colab-df-convert {\n",
              "      background-color: #3B4455;\n",
              "      fill: #D2E3FC;\n",
              "    }\n",
              "\n",
              "    [theme=dark] .colab-df-convert:hover {\n",
              "      background-color: #434B5C;\n",
              "      box-shadow: 0px 1px 3px 1px rgba(0, 0, 0, 0.15);\n",
              "      filter: drop-shadow(0px 1px 2px rgba(0, 0, 0, 0.3));\n",
              "      fill: #FFFFFF;\n",
              "    }\n",
              "  </style>\n",
              "\n",
              "      <script>\n",
              "        const buttonEl =\n",
              "          document.querySelector('#df-8f6d5a80-2185-438a-889a-663601f7a0ae button.colab-df-convert');\n",
              "        buttonEl.style.display =\n",
              "          google.colab.kernel.accessAllowed ? 'block' : 'none';\n",
              "\n",
              "        async function convertToInteractive(key) {\n",
              "          const element = document.querySelector('#df-8f6d5a80-2185-438a-889a-663601f7a0ae');\n",
              "          const dataTable =\n",
              "            await google.colab.kernel.invokeFunction('convertToInteractive',\n",
              "                                                     [key], {});\n",
              "          if (!dataTable) return;\n",
              "\n",
              "          const docLinkHtml = 'Like what you see? Visit the ' +\n",
              "            '<a target=\"_blank\" href=https://colab.research.google.com/notebooks/data_table.ipynb>data table notebook</a>'\n",
              "            + ' to learn more about interactive tables.';\n",
              "          element.innerHTML = '';\n",
              "          dataTable['output_type'] = 'display_data';\n",
              "          await google.colab.output.renderOutput(dataTable, element);\n",
              "          const docLink = document.createElement('div');\n",
              "          docLink.innerHTML = docLinkHtml;\n",
              "          element.appendChild(docLink);\n",
              "        }\n",
              "      </script>\n",
              "    </div>\n",
              "  </div>\n",
              "  "
            ]
          },
          "metadata": {},
          "execution_count": 8
        }
      ]
    },
    {
      "cell_type": "code",
      "execution_count": 7,
      "metadata": {
        "id": "-bp-TAWXCtPJ"
      },
      "outputs": [],
      "source": [
        "morpher = MorphAnalyzer()\n",
        "sw = set(get_stop_words(\"en\"))\n",
        "exclude = set(string.punctuation)"
      ]
    },
    {
      "cell_type": "code",
      "execution_count": 8,
      "metadata": {
        "id": "EZdHr7aBCtPI"
      },
      "outputs": [],
      "source": [
        "def preprocess_txt(line):\n",
        "    spls = \"\".join(i for i in line.strip() if i not in exclude).split()\n",
        "    spls = [morpher.parse(i.lower())[0].normal_form for i in spls]\n",
        "    spls = [i for i in spls if i not in sw and i != \"\"]\n",
        "    return spls"
      ]
    },
    {
      "cell_type": "code",
      "source": [
        "def preprocess_txt1(line):\n",
        "    spls = \"\".join(i for i in line.strip() if i not in exclude).split()\n",
        "    spls = [morpher.parse(i.lower())[0].normal_form for i in spls]\n",
        "    spls = [i for i in spls if i != \"\"]\n",
        "    return spls"
      ],
      "metadata": {
        "id": "VMFAWoqJtfN6"
      },
      "execution_count": 9,
      "outputs": []
    },
    {
      "cell_type": "code",
      "source": [
        "name_1_corpus = train_df.name_1\n",
        "name_2_corpus = train_df.name_2"
      ],
      "metadata": {
        "id": "e8N3YvF7ifXf"
      },
      "execution_count": 10,
      "outputs": []
    },
    {
      "cell_type": "code",
      "source": [
        "print(len(name_1_corpus))\n",
        "name_1_corpus[600]"
      ],
      "metadata": {
        "colab": {
          "base_uri": "https://localhost:8080/",
          "height": 53
        },
        "id": "ccOZWngp2q0S",
        "outputId": "597bf04a-a4f5-4ab7-bc6a-483fd083a7de"
      },
      "execution_count": 11,
      "outputs": [
        {
          "output_type": "stream",
          "name": "stdout",
          "text": [
            "497819\n"
          ]
        },
        {
          "output_type": "execute_result",
          "data": {
            "text/plain": [
              "'Aim International'"
            ],
            "application/vnd.google.colaboratory.intrinsic+json": {
              "type": "string"
            }
          },
          "metadata": {},
          "execution_count": 11
        }
      ]
    },
    {
      "cell_type": "code",
      "source": [
        "n_1_all=[]\n",
        "for line in tqdm_notebook(name_1_corpus):\n",
        "        spls = preprocess_txt1(line)\n",
        "        n_1_all.append(spls)"
      ],
      "metadata": {
        "colab": {
          "base_uri": "https://localhost:8080/",
          "height": 103,
          "referenced_widgets": [
            "5a8c472b0931442ebddff5c54cc553fd",
            "eba6ed21ad104b35b3d99ee7ca6187de",
            "3e98da0683ce4fbfb8c6ae822b6bb3a3",
            "4d4280cad8ff495a8e5992f37dd73583",
            "862293f479444a62b8bed05b68dee74e",
            "7190bc9a3947460f8512002c5c7f452b",
            "c1fb74243c5c4903a52be6f9901bba83",
            "48cbe1de40df460bb5f77724fce10df2",
            "ec5eeca7fa264ba1820effa69ceeb5a2",
            "56ad32af29a3407b98875cb3ea75d74d",
            "1b514bc9681843ffad4e331754f939e6"
          ]
        },
        "id": "OrGnM2Jpi4zA",
        "outputId": "08bb10c0-3b16-43f4-9a08-eab9600ab55d"
      },
      "execution_count": 12,
      "outputs": [
        {
          "output_type": "stream",
          "name": "stderr",
          "text": [
            "/usr/local/lib/python3.7/dist-packages/ipykernel_launcher.py:2: TqdmDeprecationWarning: This function will be removed in tqdm==5.0.0\n",
            "Please use `tqdm.notebook.tqdm` instead of `tqdm.tqdm_notebook`\n",
            "  \n"
          ]
        },
        {
          "output_type": "display_data",
          "data": {
            "text/plain": [
              "  0%|          | 0/497819 [00:00<?, ?it/s]"
            ],
            "application/vnd.jupyter.widget-view+json": {
              "version_major": 2,
              "version_minor": 0,
              "model_id": "5a8c472b0931442ebddff5c54cc553fd"
            }
          },
          "metadata": {}
        }
      ]
    },
    {
      "cell_type": "code",
      "source": [
        "print(len(n_1_all))\n",
        "n_1_all[600]"
      ],
      "metadata": {
        "colab": {
          "base_uri": "https://localhost:8080/"
        },
        "id": "U9MczdEAjQwU",
        "outputId": "8fb8a34d-22d0-439a-fffe-3966fe38d05f"
      },
      "execution_count": 13,
      "outputs": [
        {
          "output_type": "stream",
          "name": "stdout",
          "text": [
            "497819\n"
          ]
        },
        {
          "output_type": "execute_result",
          "data": {
            "text/plain": [
              "['aim', 'international']"
            ]
          },
          "metadata": {},
          "execution_count": 13
        }
      ]
    },
    {
      "cell_type": "code",
      "source": [
        "n_2_all=[]\n",
        "for line in tqdm_notebook(name_2_corpus):\n",
        "        spls = preprocess_txt1(line)\n",
        "        n_2_all.append(spls)"
      ],
      "metadata": {
        "colab": {
          "base_uri": "https://localhost:8080/",
          "height": 103,
          "referenced_widgets": [
            "dcacf1b54d5d4846a97e62ab6add554e",
            "82d634d510094edd8d645555cd36e74b",
            "c6819e4284bb4557a87aa508c3f14b13",
            "e68c8ba86d104778a9ba0787d1aaba13",
            "b798097b1f804b90855a10c30c37e9a3",
            "df394db022b6417bb675724fe1d79d16",
            "cd018282f4e74e3195d828dafff9c173",
            "3336511101834c9f813e5149d81f4716",
            "1658670c68284666ac297a62f6278675",
            "38c1cf6a9d6943e3b84efebc46a8754c",
            "8bc115c1137b49f6ba7fceb4a913b64e"
          ]
        },
        "id": "JV7AnaOfjb2S",
        "outputId": "24aac5e9-e3be-4d5b-9abe-8f063ffb4b7e"
      },
      "execution_count": 14,
      "outputs": [
        {
          "output_type": "stream",
          "name": "stderr",
          "text": [
            "/usr/local/lib/python3.7/dist-packages/ipykernel_launcher.py:2: TqdmDeprecationWarning: This function will be removed in tqdm==5.0.0\n",
            "Please use `tqdm.notebook.tqdm` instead of `tqdm.tqdm_notebook`\n",
            "  \n"
          ]
        },
        {
          "output_type": "display_data",
          "data": {
            "text/plain": [
              "  0%|          | 0/497819 [00:00<?, ?it/s]"
            ],
            "application/vnd.jupyter.widget-view+json": {
              "version_major": 2,
              "version_minor": 0,
              "model_id": "dcacf1b54d5d4846a97e62ab6add554e"
            }
          },
          "metadata": {}
        }
      ]
    },
    {
      "cell_type": "markdown",
      "source": [
        "#Word2Vec, Fasttext, Annoy"
      ],
      "metadata": {
        "id": "1uVl8OJjv8Jt"
      }
    },
    {
      "cell_type": "code",
      "source": [
        "all_names = n_1_all+n_2_all"
      ],
      "metadata": {
        "id": "t006qiK7tmOs"
      },
      "execution_count": 15,
      "outputs": []
    },
    {
      "cell_type": "code",
      "source": [
        "# create models\n",
        "\n",
        "modelW2V = Word2Vec(sentences=all_names, size=100, window=5, min_count=1)\n",
        "\n",
        "modelFT = FastText(sentences=all_names, size=100, min_count=1, window=5, workers=8)"
      ],
      "metadata": {
        "id": "b9ofm7HMwbWZ"
      },
      "execution_count": 16,
      "outputs": []
    },
    {
      "cell_type": "code",
      "source": [
        "# craete Annoy indexes\n",
        "index_w2v = annoy.AnnoyIndex(100 ,'angular') #using angular metric\n",
        "index_ft = annoy.AnnoyIndex(100 ,'angular')\n",
        "\n",
        "\n",
        "for i, sent in enumerate(all_names):\n",
        "\n",
        "    res1 = [modelW2V.wv[w] for w in sent if w in modelW2V.wv]\n",
        "    v_w2v = sum(res1) / len(res1) if res1 else np.zeros(100)\n",
        "\n",
        "    res2 = [modelFT.wv[w] for w in sent if w in modelFT.wv]\n",
        "    v_ft = sum(res2) / len(res2) if res2 else np.zeros(100)\n",
        "\n",
        "    index_w2v.add_item(i, v_w2v)\n",
        "    index_ft.add_item(i, v_ft)\n",
        "\n",
        "\n",
        "\n",
        "index_w2v.build(10)\n",
        "index_ft.build(10)\n"
      ],
      "metadata": {
        "colab": {
          "base_uri": "https://localhost:8080/"
        },
        "id": "9xVqP1hHyqw8",
        "outputId": "a2260fff-96a1-4c0a-e784-6e542e845025"
      },
      "execution_count": 17,
      "outputs": [
        {
          "output_type": "execute_result",
          "data": {
            "text/plain": [
              "True"
            ]
          },
          "metadata": {},
          "execution_count": 17
        }
      ]
    },
    {
      "cell_type": "code",
      "source": [
        "names_raw = train_df.name_1 + train_df.name_2"
      ],
      "metadata": {
        "id": "OpXgRAf2uWr7"
      },
      "execution_count": 18,
      "outputs": []
    },
    {
      "cell_type": "code",
      "source": [
        "def get_response(tweet, index, model):\n",
        "  tweet = preprocess_txt1(tweet)\n",
        "  w_v  = [model.wv[w] for w in tweet if w in model.wv ]\n",
        "  tweet_vector = sum(w_v) / len(w_v) if w_v else np.zeros(100)\n",
        "  result = index.get_nns_by_vector(tweet_vector, 5) #5 nearest\n",
        "\n",
        "  return [names_raw[i] for i in result] #[train_df['name_2'].iloc[i] for i in result]  \n"
      ],
      "metadata": {
        "id": "8z3Plpoz4laO"
      },
      "execution_count": 19,
      "outputs": []
    },
    {
      "cell_type": "code",
      "source": [
        "# choose random brand\n",
        "df_dub = train_df[train_df.is_duplicate==1]\n",
        "rand_i = random.randint(0, df_dub.shape[0])\n",
        "test_brand = df_dub.name_1.iloc[rand_i]\n",
        "print(f'исходная компания {test_brand}')\n",
        "print('----------------')\n",
        "print(f'соответствие из исходной таблицы {df_dub.name_2.iloc[rand_i]}')"
      ],
      "metadata": {
        "colab": {
          "base_uri": "https://localhost:8080/"
        },
        "id": "a_WSlJDArWdc",
        "outputId": "cdabf80a-b909-44a3-f55b-0039b98ce6be"
      },
      "execution_count": 38,
      "outputs": [
        {
          "output_type": "stream",
          "name": "stdout",
          "text": [
            "исходная компания Mitsubishi Chemical Performance\n",
            "----------------\n",
            "соответствие из исходной таблицы Mitsubishi Chemical China Commerce Ltd.\n"
          ]
        }
      ]
    },
    {
      "cell_type": "code",
      "source": [
        "# word2vec vectors\n",
        "response = get_response(test_brand, index_w2v, modelW2V)\n",
        "print(test_brand)\n",
        "print('*'*50)\n",
        "for line in response:\n",
        "  \n",
        "  print(line)\n",
        "  print('-'*50)"
      ],
      "metadata": {
        "colab": {
          "base_uri": "https://localhost:8080/"
        },
        "id": "651RrDTJEIIT",
        "outputId": "02ed4698-f357-4328-c514-81c31760f6fe"
      },
      "execution_count": 39,
      "outputs": [
        {
          "output_type": "stream",
          "name": "stdout",
          "text": [
            "Mitsubishi Chemical Performance\n",
            "**************************************************\n",
            "Mitsubishi Chemical PerformanceMitsuboshi Philippines Corp\n",
            "--------------------------------------------------\n",
            "Mitsubishi Chemical PerformanceDro Chemicals Inc.\n",
            "--------------------------------------------------\n",
            "Mitsubishi Chemical PerformanceAmbica Corp\n",
            "--------------------------------------------------\n",
            "Mitsubishi Chemical PerformanceMir International Co., Ltd.\n",
            "--------------------------------------------------\n",
            "Mitsubishi Chemical PerformanceLg Chem Ltd.\n",
            "--------------------------------------------------\n"
          ]
        }
      ]
    },
    {
      "cell_type": "code",
      "source": [
        "#FastText vectors\n",
        "response = get_response(test_brand, index_ft, modelFT)\n",
        "print(test_brand)\n",
        "print('*'*50)\n",
        "for line in response:\n",
        "  \n",
        "  print(line)\n",
        "  print('-'*50)"
      ],
      "metadata": {
        "id": "bQ61t1FdZrvg",
        "colab": {
          "base_uri": "https://localhost:8080/"
        },
        "outputId": "8254a598-484d-481f-f5fb-31ec29854c38"
      },
      "execution_count": 40,
      "outputs": [
        {
          "output_type": "stream",
          "name": "stdout",
          "text": [
            "Mitsubishi Chemical Performance\n",
            "**************************************************\n",
            "Mitsubishi Chemical PerformanceMitsuboshi Philippines Corp\n",
            "--------------------------------------------------\n",
            "Mitsubishi Chemical PerformanceDro Chemicals Inc.\n",
            "--------------------------------------------------\n",
            "Mitsubishi Chemical PerformanceAmbica Corp\n",
            "--------------------------------------------------\n",
            "Mitsubishi Chemical PerformanceMir International Co., Ltd.\n",
            "--------------------------------------------------\n",
            "Mitsubishi Chemical PerformanceLg Chem Ltd.\n",
            "--------------------------------------------------\n"
          ]
        }
      ]
    },
    {
      "cell_type": "markdown",
      "source": [
        "#Both models dive good result"
      ],
      "metadata": {
        "id": "N_g4I4gD0GpX"
      }
    },
    {
      "cell_type": "code",
      "source": [],
      "metadata": {
        "id": "jTgF8DK1n3jU"
      },
      "execution_count": null,
      "outputs": []
    }
  ]
}