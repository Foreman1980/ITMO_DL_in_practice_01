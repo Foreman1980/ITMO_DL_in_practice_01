{
 "cells": [
  {
   "cell_type": "code",
   "execution_count": 4,
   "id": "798affcf",
   "metadata": {},
   "outputs": [],
   "source": [
    "import numpy as np\n",
    "import pandas as pd"
   ]
  },
  {
   "cell_type": "code",
   "execution_count": 28,
   "id": "08f94aa6",
   "metadata": {},
   "outputs": [
    {
     "data": {
      "text/html": [
       "<div>\n",
       "<style scoped>\n",
       "    .dataframe tbody tr th:only-of-type {\n",
       "        vertical-align: middle;\n",
       "    }\n",
       "\n",
       "    .dataframe tbody tr th {\n",
       "        vertical-align: top;\n",
       "    }\n",
       "\n",
       "    .dataframe thead th {\n",
       "        text-align: right;\n",
       "    }\n",
       "</style>\n",
       "<table border=\"1\" class=\"dataframe\">\n",
       "  <thead>\n",
       "    <tr style=\"text-align: right;\">\n",
       "      <th></th>\n",
       "      <th>name_1</th>\n",
       "      <th>name_2</th>\n",
       "      <th>is_duplicate</th>\n",
       "    </tr>\n",
       "    <tr>\n",
       "      <th>pair_id</th>\n",
       "      <th></th>\n",
       "      <th></th>\n",
       "      <th></th>\n",
       "    </tr>\n",
       "  </thead>\n",
       "  <tbody>\n",
       "    <tr>\n",
       "      <th>1</th>\n",
       "      <td>Iko Industries Ltd.</td>\n",
       "      <td>Enormous Industrial Trade Pvt., Ltd.</td>\n",
       "      <td>0</td>\n",
       "    </tr>\n",
       "    <tr>\n",
       "      <th>2</th>\n",
       "      <td>Apcotex Industries Ltd.</td>\n",
       "      <td>Technocraft Industries (India) Ltd.</td>\n",
       "      <td>0</td>\n",
       "    </tr>\n",
       "    <tr>\n",
       "      <th>3</th>\n",
       "      <td>Rishichem Distributors Pvt., Ltd.</td>\n",
       "      <td>Dsa</td>\n",
       "      <td>0</td>\n",
       "    </tr>\n",
       "    <tr>\n",
       "      <th>4</th>\n",
       "      <td>Powermax Rubber Factory</td>\n",
       "      <td>Co. One</td>\n",
       "      <td>0</td>\n",
       "    </tr>\n",
       "    <tr>\n",
       "      <th>5</th>\n",
       "      <td>Tress A/S</td>\n",
       "      <td>Longyou Industries Park Zhejiang</td>\n",
       "      <td>0</td>\n",
       "    </tr>\n",
       "  </tbody>\n",
       "</table>\n",
       "</div>"
      ],
      "text/plain": [
       "                                    name_1  \\\n",
       "pair_id                                      \n",
       "1                      Iko Industries Ltd.   \n",
       "2                  Apcotex Industries Ltd.   \n",
       "3        Rishichem Distributors Pvt., Ltd.   \n",
       "4                  Powermax Rubber Factory   \n",
       "5                                Tress A/S   \n",
       "\n",
       "                                       name_2  is_duplicate  \n",
       "pair_id                                                      \n",
       "1        Enormous Industrial Trade Pvt., Ltd.             0  \n",
       "2         Technocraft Industries (India) Ltd.             0  \n",
       "3                                         Dsa             0  \n",
       "4                                     Co. One             0  \n",
       "5            Longyou Industries Park Zhejiang             0  "
      ]
     },
     "execution_count": 28,
     "metadata": {},
     "output_type": "execute_result"
    }
   ],
   "source": [
    "data = pd.read_csv(r'C:\\Users\\Shkolaynski.MOKB\\DataspellProjects\\ITMO_DL_in_practice_02\\Source\\train.csv', index_col='pair_id')\n",
    "data.head()"
   ]
  },
  {
   "cell_type": "code",
   "execution_count": 67,
   "id": "c4775a01",
   "metadata": {},
   "outputs": [
    {
     "data": {
      "text/html": [
       "<div>\n",
       "<style scoped>\n",
       "    .dataframe tbody tr th:only-of-type {\n",
       "        vertical-align: middle;\n",
       "    }\n",
       "\n",
       "    .dataframe tbody tr th {\n",
       "        vertical-align: top;\n",
       "    }\n",
       "\n",
       "    .dataframe thead th {\n",
       "        text-align: right;\n",
       "    }\n",
       "</style>\n",
       "<table border=\"1\" class=\"dataframe\">\n",
       "  <thead>\n",
       "    <tr style=\"text-align: right;\">\n",
       "      <th></th>\n",
       "      <th>name</th>\n",
       "    </tr>\n",
       "  </thead>\n",
       "  <tbody>\n",
       "    <tr>\n",
       "      <th>18017</th>\n",
       "      <td>Plastic Packaging (Pty) Ltd.</td>\n",
       "    </tr>\n",
       "    <tr>\n",
       "      <th>18018</th>\n",
       "      <td>'Hengshui Mechanical &amp; Electrical Building Co....</td>\n",
       "    </tr>\n",
       "    <tr>\n",
       "      <th>18019</th>\n",
       "      <td>Jiangsu Baoli International Investment Co., Lt...</td>\n",
       "    </tr>\n",
       "    <tr>\n",
       "      <th>18020</th>\n",
       "      <td>Lanxess AG</td>\n",
       "    </tr>\n",
       "    <tr>\n",
       "      <th>18021</th>\n",
       "      <td>TGI IMPORT EXPORT CO., LTD.</td>\n",
       "    </tr>\n",
       "  </tbody>\n",
       "</table>\n",
       "</div>"
      ],
      "text/plain": [
       "                                                    name\n",
       "18017                       Plastic Packaging (Pty) Ltd.\n",
       "18018  'Hengshui Mechanical & Electrical Building Co....\n",
       "18019  Jiangsu Baoli International Investment Co., Lt...\n",
       "18020                                         Lanxess AG\n",
       "18021                        TGI IMPORT EXPORT CO., LTD."
      ]
     },
     "execution_count": 67,
     "metadata": {},
     "output_type": "execute_result"
    }
   ],
   "source": [
    "df = pd.concat([data.name_1, data.name_2]).drop_duplicates().reset_index(drop=True)\n",
    "df = pd.DataFrame(data=df, columns=['name'])\n",
    "df.tail()"
   ]
  },
  {
   "cell_type": "code",
   "execution_count": 59,
   "id": "912d9498",
   "metadata": {},
   "outputs": [
    {
     "data": {
      "text/plain": [
       "'Просто левая строка для проверки'"
      ]
     },
     "execution_count": 59,
     "metadata": {},
     "output_type": "execute_result"
    }
   ],
   "source": [
    "# найдём строки ближайшие к данной\n",
    "input_str = df.sample(1, random_state=42).iloc[0]\n",
    "input_str = 'Просто левая строка для проверки'\n",
    "input_str"
   ]
  },
  {
   "cell_type": "code",
   "execution_count": 106,
   "id": "a2cbef4a",
   "metadata": {},
   "outputs": [
    {
     "name": "stdout",
     "output_type": "stream",
     "text": [
      "Просто левая строка для проверки  |  prosto levaja stroka dlja proverki\n"
     ]
    },
    {
     "data": {
      "text/html": [
       "<div>\n",
       "<style scoped>\n",
       "    .dataframe tbody tr th:only-of-type {\n",
       "        vertical-align: middle;\n",
       "    }\n",
       "\n",
       "    .dataframe tbody tr th {\n",
       "        vertical-align: top;\n",
       "    }\n",
       "\n",
       "    .dataframe thead th {\n",
       "        text-align: right;\n",
       "    }\n",
       "</style>\n",
       "<table border=\"1\" class=\"dataframe\">\n",
       "  <thead>\n",
       "    <tr style=\"text-align: right;\">\n",
       "      <th></th>\n",
       "      <th>name</th>\n",
       "      <th>name_alt</th>\n",
       "    </tr>\n",
       "  </thead>\n",
       "  <tbody>\n",
       "    <tr>\n",
       "      <th>18017</th>\n",
       "      <td>Plastic Packaging (Pty) Ltd.</td>\n",
       "      <td>plastic packaging</td>\n",
       "    </tr>\n",
       "    <tr>\n",
       "      <th>18018</th>\n",
       "      <td>'Hengshui Mechanical &amp; Electrical Building Co....</td>\n",
       "      <td>hengshui mechanical electrical building</td>\n",
       "    </tr>\n",
       "    <tr>\n",
       "      <th>18019</th>\n",
       "      <td>Jiangsu Baoli International Investment Co., Lt...</td>\n",
       "      <td>jiangsu baoli international investment co ltd ...</td>\n",
       "    </tr>\n",
       "    <tr>\n",
       "      <th>18020</th>\n",
       "      <td>Lanxess AG</td>\n",
       "      <td>lanxess</td>\n",
       "    </tr>\n",
       "    <tr>\n",
       "      <th>18021</th>\n",
       "      <td>TGI IMPORT EXPORT CO., LTD.</td>\n",
       "      <td>tgi import export</td>\n",
       "    </tr>\n",
       "  </tbody>\n",
       "</table>\n",
       "</div>"
      ],
      "text/plain": [
       "                                                    name  \\\n",
       "18017                       Plastic Packaging (Pty) Ltd.   \n",
       "18018  'Hengshui Mechanical & Electrical Building Co....   \n",
       "18019  Jiangsu Baoli International Investment Co., Lt...   \n",
       "18020                                         Lanxess AG   \n",
       "18021                        TGI IMPORT EXPORT CO., LTD.   \n",
       "\n",
       "                                                name_alt  \n",
       "18017                                  plastic packaging  \n",
       "18018            hengshui mechanical electrical building  \n",
       "18019  jiangsu baoli international investment co ltd ...  \n",
       "18020                                            lanxess  \n",
       "18021                                  tgi import export  "
      ]
     },
     "execution_count": 106,
     "metadata": {},
     "output_type": "execute_result"
    }
   ],
   "source": [
    "import re\n",
    "import unicodedata\n",
    "from cleanco import basename\n",
    "from transliterate.decorators import transliterate_function\n",
    "\n",
    "\n",
    "def preprocessing(x: str) -> str:\n",
    "    \n",
    "    def rus_preprocess(x: str) -> str:\n",
    "        forms_of_ownership = [\n",
    "            'ооо',\n",
    "            'оао',\n",
    "            'общество с ограниченной ответственностью',\n",
    "            'открытое акционерное общество',\n",
    "            'филиал компании'\n",
    "        ]\n",
    "        \n",
    "        for form in forms_of_ownership:\n",
    "            pattern = re.compile(form)\n",
    "            x = pattern.sub('', x)\n",
    "            \n",
    "        return x\n",
    "    \n",
    "    @transliterate_function(language_code='ru', reversed=True)\n",
    "    def translit(x: str) -> str:\n",
    "        return x\n",
    "    \n",
    "    \n",
    "    x = re.sub(r'[^\\w\\s]+|[\\d]+',' ', x)\n",
    "    x = x.strip().lower()\n",
    "    x = basename(x) if not bool(set(rus_alphabet).intersection(set(x.lower()))) else rus_preprocess(x)\n",
    "    x = unicodedata.normalize('NFKD', x).encode('ASCII', 'ignore').decode() if not bool(set(rus_alphabet).intersection(set(x.lower()))) else translit(x)\n",
    "    x = basename(x)\n",
    "    \n",
    "    return ' '.join([s for s in x.split()]) if len(x.split()) != 0 else '-' * 5\n",
    "    \n",
    "\n",
    "a = ord('а') # кирилическая \"А\"\n",
    "rus_alphabet = ''.join([chr(i) for i in range(a,a+6)] + [chr(a+33)] + [chr(i) for i in range(a+6,a+32)])\n",
    "    \n",
    "input_str_alt = preprocessing(input_str)\n",
    "test_df = df.copy()\n",
    "test_df['name_alt'] = test_df.name.apply(lambda x: preprocessing(x))\n",
    "print(input_str, ' | ', input_str_alt)\n",
    "test_df.tail()"
   ]
  },
  {
   "cell_type": "code",
   "execution_count": 107,
   "id": "311000a2",
   "metadata": {},
   "outputs": [],
   "source": [
    "from fuzzywuzzy import fuzz\n",
    "import jellyfish\n",
    "\n",
    "import warnings\n",
    "\n",
    "warnings.filterwarnings(\"ignore\")\n",
    "\n",
    "\n",
    "# Token Set Ratio\n",
    "test_df.insert(1, 'tsr', test_df.name_alt.apply(lambda x: fuzz.token_set_ratio(input_str_alt, x) / 100))\n",
    "\n",
    "# Jaro-Winkler Similarity\n",
    "test_df.insert(2, 'jws', test_df.name_alt.apply(lambda x: jellyfish.jaro_winkler_similarity(input_str_alt, x)))\n",
    "\n",
    "test_df.to_csv(r'C:\\Users\\Shkolaynski.MOKB\\DataspellProjects\\ITMO_DL_in_practice_02\\Source\\eval.csv')"
   ]
  },
  {
   "cell_type": "code",
   "execution_count": 117,
   "id": "7331cc48",
   "metadata": {},
   "outputs": [
    {
     "name": "stdout",
     "output_type": "stream",
     "text": [
      "Просто левая строка для проверки  |  prosto levaja stroka dlja proverki \n",
      "\n",
      "                                     name   tsr       jws\n",
      "5832             Poder Logistico Sa De Cv  0.55  0.639998\n",
      "5695           Productos Roche Panama S A  0.53  0.675478\n",
      "6813            Etam Pret A Porter S.A.S.  0.52  0.660690\n",
      "12961            Pt Penta Jaya Laju Motor  0.52  0.648693\n",
      "1961   Saro Rubber & Allied Products Ltd.  0.52  0.631369\n"
     ]
    }
   ],
   "source": [
    "print(input_str, ' | ', input_str_alt, '\\n')\n",
    "res = test_df.loc[test_df.sort_values(['tsr', 'jws'], ascending=False).index, ['name', 'tsr', 'jws']].head()\n",
    "if res.iloc[0, -2:][['tsr', 'jws']].mean() > 0.5:\n",
    "    print(res)\n",
    "else:\n",
    "    print('Строк похожих на заданную не обнаружено')"
   ]
  },
  {
   "cell_type": "code",
   "execution_count": null,
   "id": "d2bb564d",
   "metadata": {},
   "outputs": [],
   "source": []
  },
  {
   "cell_type": "code",
   "execution_count": null,
   "id": "d52bfebd",
   "metadata": {},
   "outputs": [],
   "source": []
  }
 ],
 "metadata": {
  "kernelspec": {
   "display_name": "Python 3 (ipykernel)",
   "language": "python",
   "name": "python3"
  },
  "language_info": {
   "codemirror_mode": {
    "name": "ipython",
    "version": 3
   },
   "file_extension": ".py",
   "mimetype": "text/x-python",
   "name": "python",
   "nbconvert_exporter": "python",
   "pygments_lexer": "ipython3",
   "version": "3.9.13"
  }
 },
 "nbformat": 4,
 "nbformat_minor": 5
}
